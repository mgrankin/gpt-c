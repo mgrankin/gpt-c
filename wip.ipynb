{
 "cells": [
  {
   "cell_type": "code",
   "execution_count": 1,
   "id": "passing-somalia",
   "metadata": {},
   "outputs": [],
   "source": [
    "import pickle"
   ]
  },
  {
   "cell_type": "code",
   "execution_count": 2,
   "id": "entertaining-nickname",
   "metadata": {},
   "outputs": [],
   "source": [
    "import zstandard"
   ]
  },
  {
   "cell_type": "code",
   "execution_count": 4,
   "id": "administrative-calendar",
   "metadata": {},
   "outputs": [],
   "source": [
    "w = 'asdfasdf'"
   ]
  },
  {
   "cell_type": "code",
   "execution_count": 5,
   "id": "silent-survey",
   "metadata": {},
   "outputs": [],
   "source": [
    "def z_write(data, fname):\n",
    "    cctx = zstandard.ZstdCompressor(level=10)\n",
    "    with open(fname, 'wb') as f, cctx.stream_writer(f) as z:\n",
    "        pickle.dump(data, z)"
   ]
  },
  {
   "cell_type": "code",
   "execution_count": 6,
   "id": "functional-algebra",
   "metadata": {},
   "outputs": [],
   "source": [
    "def z_read(fname):\n",
    "    dctx = zstandard.ZstdDecompressor()\n",
    "    with open(fname, 'rb') as f, dctx.stream_reader(f) as z:\n",
    "        return pickle.load(z)"
   ]
  },
  {
   "cell_type": "code",
   "execution_count": 7,
   "id": "included-native",
   "metadata": {},
   "outputs": [],
   "source": [
    "z_write(w, 'data.pickle.zst')"
   ]
  },
  {
   "cell_type": "code",
   "execution_count": 8,
   "id": "sustained-organ",
   "metadata": {},
   "outputs": [
    {
     "data": {
      "text/plain": [
       "'asdfasdf'"
      ]
     },
     "execution_count": 8,
     "metadata": {},
     "output_type": "execute_result"
    }
   ],
   "source": [
    "z_read('data.pickle.zst')"
   ]
  },
  {
   "cell_type": "code",
   "execution_count": null,
   "id": "proved-woman",
   "metadata": {},
   "outputs": [],
   "source": []
  },
  {
   "cell_type": "code",
   "execution_count": 10,
   "id": "framed-chart",
   "metadata": {},
   "outputs": [],
   "source": [
    "cctx = zstandard.ZstdCompressor(level=10)\n",
    "with open('data.pickle.zst', 'wb') as f, cctx.stream_writer(f) as z:\n",
    "    pickle.dump(w, z)"
   ]
  },
  {
   "cell_type": "code",
   "execution_count": 11,
   "id": "experimental-prisoner",
   "metadata": {},
   "outputs": [],
   "source": [
    "dctx = zstandard.ZstdDecompressor()\n",
    "with open('data.pickle.zst', 'rb') as f, dctx.stream_reader(f) as z:\n",
    "    w = pickle.load(z)"
   ]
  },
  {
   "cell_type": "code",
   "execution_count": 12,
   "id": "passing-touch",
   "metadata": {},
   "outputs": [
    {
     "data": {
      "text/plain": [
       "'some d'"
      ]
     },
     "execution_count": 12,
     "metadata": {},
     "output_type": "execute_result"
    }
   ],
   "source": [
    "w"
   ]
  },
  {
   "cell_type": "code",
   "execution_count": null,
   "id": "simple-prediction",
   "metadata": {},
   "outputs": [],
   "source": []
  },
  {
   "cell_type": "code",
   "execution_count": 1,
   "id": "dietary-running",
   "metadata": {},
   "outputs": [],
   "source": [
    "import os\n",
    "#os.environ[\"TF_CPP_MIN_LOG_LEVEL\"] = \"0\""
   ]
  },
  {
   "cell_type": "markdown",
   "id": "greatest-longer",
   "metadata": {},
   "source": [
    "os.environ[\"XLA_FLAGS--xla_gpu_cuda_data_dir\"] = \"/etc/alternatives/cuda\""
   ]
  },
  {
   "cell_type": "code",
   "execution_count": 419,
   "id": "intense-tokyo",
   "metadata": {},
   "outputs": [],
   "source": [
    "import numpy as np\n",
    "from PIL import Image\n",
    "import jax\n",
    "import clip_jax\n",
    "import jax.numpy as jnp\n",
    "from einops import rearrange, repeat\n",
    "from functools import lru_cache\n"
   ]
  },
  {
   "cell_type": "code",
   "execution_count": 3,
   "id": "written-boulder",
   "metadata": {},
   "outputs": [
    {
     "name": "stderr",
     "output_type": "stream",
     "text": [
      "/home/u/.anaconda/envs/gpt-c/lib/python3.9/site-packages/torchvision/transforms/transforms.py:280: UserWarning: Argument interpolation should be of type InterpolationMode instead of int. Please, use InterpolationMode enum.\n",
      "  warnings.warn(\n"
     ]
    }
   ],
   "source": [
    "_, text_fn, jax_params, _ = clip_jax.load('ViT-B/32', \"cpu\")"
   ]
  },
  {
   "cell_type": "code",
   "execution_count": 4,
   "id": "bigger-palmer",
   "metadata": {},
   "outputs": [],
   "source": [
    "v,_ = jax.tree_util.tree_flatten({k:v for k,v in jax_params.items() if 'visual' not in k})"
   ]
  },
  {
   "cell_type": "code",
   "execution_count": 5,
   "id": "blind-script",
   "metadata": {},
   "outputs": [
    {
     "data": {
      "text/plain": [
       "63428097"
      ]
     },
     "execution_count": 5,
     "metadata": {},
     "output_type": "execute_result"
    }
   ],
   "source": [
    "sum([a.size for a in v])"
   ]
  },
  {
   "cell_type": "code",
   "execution_count": 6,
   "id": "intended-damage",
   "metadata": {},
   "outputs": [],
   "source": [
    "text = clip_jax.tokenize([\"a diagram\", \"a dog\", \"a cat\"])\n",
    "text_embed = text_fn(text)"
   ]
  },
  {
   "cell_type": "code",
   "execution_count": 7,
   "id": "scheduled-person",
   "metadata": {},
   "outputs": [
    {
     "data": {
      "text/plain": [
       "(3, 77)"
      ]
     },
     "execution_count": 7,
     "metadata": {},
     "output_type": "execute_result"
    }
   ],
   "source": [
    "text.shape"
   ]
  },
  {
   "cell_type": "code",
   "execution_count": 8,
   "id": "collective-acting",
   "metadata": {},
   "outputs": [],
   "source": [
    "descriptions = {\n",
    "    \"page\": \"a page of text about segmentation\",\n",
    "    \"chelsea\": \"a facial photo of a tabby cat\",\n",
    "    \"astronaut\": \"a portrait of an astronaut with the American flag\",\n",
    "    \"rocket\": \"a rocket standing on a launchpad\",\n",
    "    \"motorcycle_right\": \"a red motorcycle standing in a garage\",\n",
    "    \"camera\": \"a person looking at a camera on a tripod\",\n",
    "    \"horse\": \"a black-and-white silhouette of a horse\", \n",
    "    \"coffee\": \"a cup of coffee on a saucer\"\n",
    "}"
   ]
  },
  {
   "cell_type": "code",
   "execution_count": 9,
   "id": "normal-calgary",
   "metadata": {},
   "outputs": [],
   "source": [
    "from clip_jax.simple_tokenizer import SimpleTokenizer as Tokenizer\n",
    "tokenizer = Tokenizer()"
   ]
  },
  {
   "cell_type": "code",
   "execution_count": 10,
   "id": "fewer-thursday",
   "metadata": {},
   "outputs": [],
   "source": [
    "sot_token = jnp.array([tokenizer.encoder[\"<|startoftext|>\"]])\n",
    "eot_token = jnp.array([tokenizer.encoder[\"<|endoftext|>\"]])"
   ]
  },
  {
   "cell_type": "code",
   "execution_count": 11,
   "id": "miniature-findings",
   "metadata": {},
   "outputs": [
    {
     "data": {
      "text/plain": [
       "(DeviceArray([49406], dtype=int32), DeviceArray([49407], dtype=int32))"
      ]
     },
     "execution_count": 11,
     "metadata": {},
     "output_type": "execute_result"
    }
   ],
   "source": [
    "sot_token, eot_token"
   ]
  },
  {
   "cell_type": "code",
   "execution_count": 12,
   "id": "sudden-harbor",
   "metadata": {},
   "outputs": [],
   "source": [
    "texts = [v for k,v in descriptions.items()]"
   ]
  },
  {
   "cell_type": "code",
   "execution_count": 13,
   "id": "ahead-identifier",
   "metadata": {},
   "outputs": [],
   "source": [
    "tokens = [tokenizer.encode(t)[:7] for t in texts]"
   ]
  },
  {
   "cell_type": "code",
   "execution_count": 14,
   "id": "secondary-option",
   "metadata": {},
   "outputs": [
    {
     "data": {
      "text/plain": [
       "[[320, 2504, 539, 4160, 781, 10551, 9512],\n",
       " [320, 11909, 1125, 539, 320, 36145, 2368],\n",
       " [320, 5352, 539, 550, 18376, 593, 518],\n",
       " [320, 8383, 2862, 525, 320, 31168, 7601],\n",
       " [320, 736, 10297, 2862, 530, 320, 8474],\n",
       " [320, 2533, 1312, 536, 320, 3934, 525],\n",
       " [320, 1449, 268, 537, 268, 1579, 26149],\n",
       " [320, 1937, 539, 2453, 525, 320, 42272]]"
      ]
     },
     "execution_count": 14,
     "metadata": {},
     "output_type": "execute_result"
    }
   ],
   "source": [
    "tokens"
   ]
  },
  {
   "cell_type": "code",
   "execution_count": 15,
   "id": "hazardous-aging",
   "metadata": {},
   "outputs": [],
   "source": [
    "d_model = 2048\n",
    "clip_text_context_lenght = 77\n",
    "bs = 64"
   ]
  },
  {
   "cell_type": "code",
   "execution_count": 16,
   "id": "muslim-northern",
   "metadata": {},
   "outputs": [],
   "source": [
    "x = np.random.randint(eot_token, size=(bs,d_model)) "
   ]
  },
  {
   "cell_type": "code",
   "execution_count": 17,
   "id": "disabled-function",
   "metadata": {},
   "outputs": [
    {
     "data": {
      "text/plain": [
       "array([[24913, 44619,  3472, ..., 26234, 45531, 39767],\n",
       "       [26249,  5637, 44718, ..., 27296,  8147, 10318],\n",
       "       [17890, 33893, 14524, ..., 15978, 42917, 35486],\n",
       "       ...,\n",
       "       [21018, 41703, 29179, ..., 10023, 25975, 42948],\n",
       "       [40082, 30374, 31740, ..., 19863, 22775, 13138],\n",
       "       [14923, 24015, 42782, ..., 12991,  3664, 22301]])"
      ]
     },
     "execution_count": 17,
     "metadata": {},
     "output_type": "execute_result"
    }
   ],
   "source": [
    "x"
   ]
  },
  {
   "cell_type": "code",
   "execution_count": 18,
   "id": "catholic-price",
   "metadata": {},
   "outputs": [],
   "source": [
    "def clip_row(row):\n",
    "    row = np.trim_zeros(row)\n",
    "    # pad with the start and end tokens, the clip network was trained to use them\n",
    "    row = np.concatenate((sot_token, row, eot_token))\n",
    "    row = np.pad(row, (0, clip_text_context_lenght-len(row)))\n",
    "    return row"
   ]
  },
  {
   "cell_type": "code",
   "execution_count": 19,
   "id": "julian-billion",
   "metadata": {},
   "outputs": [],
   "source": [
    "def clip_tokens(tokens):\n",
    "    # N -> NxN\n",
    "    matrix = np.repeat(tokens[None,], tokens.shape[0], axis=0)\n",
    "    # use triag matrix, so we dont look forward during the training\n",
    "    matrix = np.tril(matrix).transpose()\n",
    "    # zero all tokens that not fit into the clip context window. -2 so we can pad with 2 special tokens after.\n",
    "    matrix = matrix*((matrix!=0).cumsum(1)<=clip_text_context_lenght-2)\n",
    "    matrix = matrix.transpose()\n",
    "    return np.apply_along_axis(clip_row, 1, matrix)"
   ]
  },
  {
   "cell_type": "code",
   "execution_count": 20,
   "id": "ultimate-surrey",
   "metadata": {},
   "outputs": [
    {
     "data": {
      "text/plain": [
       "(64, 2048)"
      ]
     },
     "execution_count": 20,
     "metadata": {},
     "output_type": "execute_result"
    }
   ],
   "source": [
    "x.shape"
   ]
  },
  {
   "cell_type": "code",
   "execution_count": 21,
   "id": "geological-wrong",
   "metadata": {},
   "outputs": [],
   "source": [
    "from multiprocessing import Pool"
   ]
  },
  {
   "cell_type": "markdown",
   "id": "severe-insurance",
   "metadata": {},
   "source": [
    "%%time\n",
    "with Pool(64) as p:\n",
    "    clip_input = jnp.array(list(p.map(clip_tokens, x)))"
   ]
  },
  {
   "cell_type": "code",
   "execution_count": 22,
   "id": "going-surge",
   "metadata": {},
   "outputs": [],
   "source": [
    "def clip_row(row):\n",
    "    row = np.trim_zeros(row)\n",
    "    # pad with the start and end tokens, the clip network was trained to use them\n",
    "    row = np.concatenate((sot_token, row, eot_token))\n",
    "    row = np.pad(row, (0, clip_text_context_lenght-len(row)))\n",
    "    return row"
   ]
  },
  {
   "cell_type": "code",
   "execution_count": 23,
   "id": "optical-compound",
   "metadata": {},
   "outputs": [],
   "source": [
    "def clip_tokens(tokens):\n",
    "    max_len = clip_text_context_lenght-2\n",
    "    matrix = [tokens[max(0, i+1 - max_len):i+1] for i in range(tokens.size)]\n",
    "    matrix = [clip_row(row) for row in matrix]\n",
    "    return np.array(matrix)"
   ]
  },
  {
   "cell_type": "code",
   "execution_count": 24,
   "id": "maritime-printing",
   "metadata": {},
   "outputs": [
    {
     "data": {
      "text/plain": [
       "array([[49406, 24913, 49407, ...,     0,     0,     0],\n",
       "       [49406, 24913, 44619, ...,     0,     0,     0],\n",
       "       [49406, 24913, 44619, ...,     0,     0,     0],\n",
       "       ...,\n",
       "       [49406, 24276,  4039, ..., 28252, 26234, 49407],\n",
       "       [49406,  4039, 43296, ..., 26234, 45531, 49407],\n",
       "       [49406, 43296, 12280, ..., 45531, 39767, 49407]])"
      ]
     },
     "execution_count": 24,
     "metadata": {},
     "output_type": "execute_result"
    }
   ],
   "source": [
    "clip_tokens(x[0])"
   ]
  },
  {
   "cell_type": "code",
   "execution_count": 25,
   "id": "colored-sight",
   "metadata": {},
   "outputs": [
    {
     "name": "stdout",
     "output_type": "stream",
     "text": [
      "CPU times: user 80.2 ms, sys: 2.01 s, total: 2.09 s\n",
      "Wall time: 2.28 s\n"
     ]
    }
   ],
   "source": [
    "%%time\n",
    "with Pool(64) as p:\n",
    "    clip_input = np.array(list(p.map(clip_tokens, x)))"
   ]
  },
  {
   "cell_type": "code",
   "execution_count": 26,
   "id": "intimate-genius",
   "metadata": {},
   "outputs": [
    {
     "name": "stdout",
     "output_type": "stream",
     "text": [
      "CPU times: user 4.84 s, sys: 40.5 ms, total: 4.88 s\n",
      "Wall time: 4.87 s\n"
     ]
    }
   ],
   "source": [
    "%%time\n",
    "clip_input = np.array([clip_tokens(tokens) for tokens in x])"
   ]
  },
  {
   "cell_type": "code",
   "execution_count": 27,
   "id": "forty-netscape",
   "metadata": {},
   "outputs": [
    {
     "data": {
      "text/plain": [
       "(64, 2048, 77)"
      ]
     },
     "execution_count": 27,
     "metadata": {},
     "output_type": "execute_result"
    }
   ],
   "source": [
    "clip_input.shape"
   ]
  },
  {
   "cell_type": "code",
   "execution_count": 28,
   "id": "recreational-korea",
   "metadata": {},
   "outputs": [],
   "source": [
    "b, l, c = clip_input.shape\n",
    "res = clip_input.reshape(b*l, c)"
   ]
  },
  {
   "cell_type": "code",
   "execution_count": 29,
   "id": "mental-college",
   "metadata": {},
   "outputs": [
    {
     "name": "stderr",
     "output_type": "stream",
     "text": [
      "2021-08-21 16:49:18.661780: W external/org_tensorflow/tensorflow/core/common_runtime/bfc_allocator.cc:462] Allocator (GPU_0_bfc) ran out of memory trying to allocate 19.25GiB (rounded to 20669530112)requested by op \n",
      "2021-08-21 16:49:18.662498: W external/org_tensorflow/tensorflow/core/common_runtime/bfc_allocator.cc:473] *************************************************************************************************___\n",
      "2021-08-21 16:49:18.662555: E external/org_tensorflow/tensorflow/compiler/xla/pjrt/pjrt_stream_executor_client.cc:2085] Execution of replica 0 failed: Resource exhausted: Out of memory while trying to allocate 20669530112 bytes.\n"
     ]
    },
    {
     "ename": "RuntimeError",
     "evalue": "Resource exhausted: Out of memory while trying to allocate 20669530112 bytes.",
     "output_type": "error",
     "traceback": [
      "\u001b[0;31m---------------------------------------------------------------------------\u001b[0m",
      "\u001b[0;31mRuntimeError\u001b[0m                              Traceback (most recent call last)",
      "\u001b[0;32m<timed eval>\u001b[0m in \u001b[0;36m<module>\u001b[0;34m\u001b[0m\n",
      "\u001b[0;32m~/.anaconda/envs/gpt-c/lib/python3.9/site-packages/haiku/_src/transform.py\u001b[0m in \u001b[0;36mapply_fn\u001b[0;34m(params, *args, **kwargs)\u001b[0m\n\u001b[1;32m    156\u001b[0m     \u001b[0;32mdef\u001b[0m \u001b[0mapply_fn\u001b[0m\u001b[0;34m(\u001b[0m\u001b[0mparams\u001b[0m\u001b[0;34m,\u001b[0m \u001b[0;34m*\u001b[0m\u001b[0margs\u001b[0m\u001b[0;34m,\u001b[0m \u001b[0;34m**\u001b[0m\u001b[0mkwargs\u001b[0m\u001b[0;34m)\u001b[0m\u001b[0;34m:\u001b[0m\u001b[0;34m\u001b[0m\u001b[0;34m\u001b[0m\u001b[0m\n\u001b[1;32m    157\u001b[0m       \u001b[0mcheck_rng_kwarg\u001b[0m\u001b[0;34m(\u001b[0m\u001b[0mkwargs\u001b[0m\u001b[0;34m)\u001b[0m\u001b[0;34m\u001b[0m\u001b[0;34m\u001b[0m\u001b[0m\n\u001b[0;32m--> 158\u001b[0;31m       \u001b[0;32mreturn\u001b[0m \u001b[0mf\u001b[0m\u001b[0;34m.\u001b[0m\u001b[0mapply\u001b[0m\u001b[0;34m(\u001b[0m\u001b[0mparams\u001b[0m\u001b[0;34m,\u001b[0m \u001b[0;32mNone\u001b[0m\u001b[0;34m,\u001b[0m \u001b[0;34m*\u001b[0m\u001b[0margs\u001b[0m\u001b[0;34m,\u001b[0m \u001b[0;34m**\u001b[0m\u001b[0mkwargs\u001b[0m\u001b[0;34m)\u001b[0m\u001b[0;34m\u001b[0m\u001b[0;34m\u001b[0m\u001b[0m\n\u001b[0m\u001b[1;32m    159\u001b[0m     \u001b[0mf_new\u001b[0m \u001b[0;34m=\u001b[0m \u001b[0mTransformed\u001b[0m\u001b[0;34m(\u001b[0m\u001b[0minit\u001b[0m\u001b[0;34m=\u001b[0m\u001b[0mf\u001b[0m\u001b[0;34m.\u001b[0m\u001b[0minit\u001b[0m\u001b[0;34m,\u001b[0m \u001b[0mapply\u001b[0m\u001b[0;34m=\u001b[0m\u001b[0mapply_fn\u001b[0m\u001b[0;34m)\u001b[0m\u001b[0;34m\u001b[0m\u001b[0;34m\u001b[0m\u001b[0m\n\u001b[1;32m    160\u001b[0m \u001b[0;34m\u001b[0m\u001b[0m\n",
      "\u001b[0;32m~/.anaconda/envs/gpt-c/lib/python3.9/site-packages/haiku/_src/transform.py\u001b[0m in \u001b[0;36mapply_fn\u001b[0;34m(params, *args, **kwargs)\u001b[0m\n\u001b[1;32m    123\u001b[0m           \"name (e.g. `f.apply(.., state=my_state)`)\")\n\u001b[1;32m    124\u001b[0m \u001b[0;34m\u001b[0m\u001b[0m\n\u001b[0;32m--> 125\u001b[0;31m     \u001b[0mout\u001b[0m\u001b[0;34m,\u001b[0m \u001b[0mstate\u001b[0m \u001b[0;34m=\u001b[0m \u001b[0mf\u001b[0m\u001b[0;34m.\u001b[0m\u001b[0mapply\u001b[0m\u001b[0;34m(\u001b[0m\u001b[0mparams\u001b[0m\u001b[0;34m,\u001b[0m \u001b[0;34m{\u001b[0m\u001b[0;34m}\u001b[0m\u001b[0;34m,\u001b[0m \u001b[0;34m*\u001b[0m\u001b[0margs\u001b[0m\u001b[0;34m,\u001b[0m \u001b[0;34m**\u001b[0m\u001b[0mkwargs\u001b[0m\u001b[0;34m)\u001b[0m\u001b[0;34m\u001b[0m\u001b[0;34m\u001b[0m\u001b[0m\n\u001b[0m\u001b[1;32m    126\u001b[0m     \u001b[0;32mif\u001b[0m \u001b[0mstate\u001b[0m\u001b[0;34m:\u001b[0m\u001b[0;34m\u001b[0m\u001b[0;34m\u001b[0m\u001b[0m\n\u001b[1;32m    127\u001b[0m       raise ValueError(\"If your transformed function uses `hk.{get,set}_state` \"\n",
      "\u001b[0;32m~/.anaconda/envs/gpt-c/lib/python3.9/site-packages/haiku/_src/transform.py\u001b[0m in \u001b[0;36mapply_fn\u001b[0;34m(params, state, rng, *args, **kwargs)\u001b[0m\n\u001b[1;32m    311\u001b[0m         rng, err_msg=(APPLY_RNG_STATE_ERROR if state else APPLY_RNG_ERROR))\n\u001b[1;32m    312\u001b[0m     \u001b[0;32mwith\u001b[0m \u001b[0mbase\u001b[0m\u001b[0;34m.\u001b[0m\u001b[0mnew_context\u001b[0m\u001b[0;34m(\u001b[0m\u001b[0mparams\u001b[0m\u001b[0;34m=\u001b[0m\u001b[0mparams\u001b[0m\u001b[0;34m,\u001b[0m \u001b[0mstate\u001b[0m\u001b[0;34m=\u001b[0m\u001b[0mstate\u001b[0m\u001b[0;34m,\u001b[0m \u001b[0mrng\u001b[0m\u001b[0;34m=\u001b[0m\u001b[0mrng\u001b[0m\u001b[0;34m)\u001b[0m \u001b[0;32mas\u001b[0m \u001b[0mctx\u001b[0m\u001b[0;34m:\u001b[0m\u001b[0;34m\u001b[0m\u001b[0;34m\u001b[0m\u001b[0m\n\u001b[0;32m--> 313\u001b[0;31m       \u001b[0mout\u001b[0m \u001b[0;34m=\u001b[0m \u001b[0mf\u001b[0m\u001b[0;34m(\u001b[0m\u001b[0;34m*\u001b[0m\u001b[0margs\u001b[0m\u001b[0;34m,\u001b[0m \u001b[0;34m**\u001b[0m\u001b[0mkwargs\u001b[0m\u001b[0;34m)\u001b[0m\u001b[0;34m\u001b[0m\u001b[0;34m\u001b[0m\u001b[0m\n\u001b[0m\u001b[1;32m    314\u001b[0m     \u001b[0;32mreturn\u001b[0m \u001b[0mout\u001b[0m\u001b[0;34m,\u001b[0m \u001b[0mctx\u001b[0m\u001b[0;34m.\u001b[0m\u001b[0mcollect_state\u001b[0m\u001b[0;34m(\u001b[0m\u001b[0;34m)\u001b[0m\u001b[0;34m\u001b[0m\u001b[0;34m\u001b[0m\u001b[0m\n\u001b[1;32m    315\u001b[0m \u001b[0;34m\u001b[0m\u001b[0m\n",
      "\u001b[0;32m~/gpt-c/clip_jax/clip.py\u001b[0m in \u001b[0;36mtext_jax\u001b[0;34m(text)\u001b[0m\n\u001b[1;32m    173\u001b[0m     \u001b[0;32mdef\u001b[0m \u001b[0mtext_jax\u001b[0m\u001b[0;34m(\u001b[0m\u001b[0mtext\u001b[0m\u001b[0;34m)\u001b[0m\u001b[0;34m:\u001b[0m\u001b[0;34m\u001b[0m\u001b[0;34m\u001b[0m\u001b[0m\n\u001b[1;32m    174\u001b[0m         \u001b[0mclip\u001b[0m \u001b[0;34m=\u001b[0m \u001b[0mCLIP\u001b[0m\u001b[0;34m(\u001b[0m\u001b[0;34m**\u001b[0m\u001b[0mclip_params\u001b[0m\u001b[0;34m)\u001b[0m\u001b[0;34m\u001b[0m\u001b[0;34m\u001b[0m\u001b[0m\n\u001b[0;32m--> 175\u001b[0;31m         \u001b[0;32mreturn\u001b[0m \u001b[0mclip\u001b[0m\u001b[0;34m.\u001b[0m\u001b[0mencode_text\u001b[0m\u001b[0;34m(\u001b[0m\u001b[0mtext\u001b[0m\u001b[0;34m)\u001b[0m\u001b[0;34m\u001b[0m\u001b[0;34m\u001b[0m\u001b[0m\n\u001b[0m\u001b[1;32m    176\u001b[0m \u001b[0;34m\u001b[0m\u001b[0m\n\u001b[1;32m    177\u001b[0m     \u001b[0mrng_key\u001b[0m \u001b[0;34m=\u001b[0m \u001b[0mjax\u001b[0m\u001b[0;34m.\u001b[0m\u001b[0mrandom\u001b[0m\u001b[0;34m.\u001b[0m\u001b[0mPRNGKey\u001b[0m\u001b[0;34m(\u001b[0m\u001b[0;36m42\u001b[0m\u001b[0;34m)\u001b[0m\u001b[0;34m\u001b[0m\u001b[0;34m\u001b[0m\u001b[0m\n",
      "\u001b[0;32m~/.anaconda/envs/gpt-c/lib/python3.9/site-packages/haiku/_src/module.py\u001b[0m in \u001b[0;36mwrapped\u001b[0;34m(self, *args, **kwargs)\u001b[0m\n\u001b[1;32m    426\u001b[0m         \u001b[0mf\u001b[0m \u001b[0;34m=\u001b[0m \u001b[0mstateful\u001b[0m\u001b[0;34m.\u001b[0m\u001b[0mnamed_call\u001b[0m\u001b[0;34m(\u001b[0m\u001b[0mf\u001b[0m\u001b[0;34m,\u001b[0m \u001b[0mname\u001b[0m\u001b[0;34m=\u001b[0m\u001b[0mlocal_name\u001b[0m\u001b[0;34m)\u001b[0m\u001b[0;34m\u001b[0m\u001b[0;34m\u001b[0m\u001b[0m\n\u001b[1;32m    427\u001b[0m \u001b[0;34m\u001b[0m\u001b[0m\n\u001b[0;32m--> 428\u001b[0;31m       \u001b[0mout\u001b[0m \u001b[0;34m=\u001b[0m \u001b[0mf\u001b[0m\u001b[0;34m(\u001b[0m\u001b[0;34m*\u001b[0m\u001b[0margs\u001b[0m\u001b[0;34m,\u001b[0m \u001b[0;34m**\u001b[0m\u001b[0mkwargs\u001b[0m\u001b[0;34m)\u001b[0m\u001b[0;34m\u001b[0m\u001b[0;34m\u001b[0m\u001b[0m\n\u001b[0m\u001b[1;32m    429\u001b[0m \u001b[0;34m\u001b[0m\u001b[0m\n\u001b[1;32m    430\u001b[0m       \u001b[0;31m# Module names are set in the constructor. If `f` is the constructor then\u001b[0m\u001b[0;34m\u001b[0m\u001b[0;34m\u001b[0m\u001b[0;34m\u001b[0m\u001b[0m\n",
      "\u001b[0;32m~/.anaconda/envs/gpt-c/lib/python3.9/site-packages/haiku/_src/module.py\u001b[0m in \u001b[0;36mrun_interceptors\u001b[0;34m(bound_method, method_name, self, *args, **kwargs)\u001b[0m\n\u001b[1;32m    277\u001b[0m   \u001b[0;34m\"\"\"Runs any method interceptors or the original method.\"\"\"\u001b[0m\u001b[0;34m\u001b[0m\u001b[0;34m\u001b[0m\u001b[0m\n\u001b[1;32m    278\u001b[0m   \u001b[0;32mif\u001b[0m \u001b[0;32mnot\u001b[0m \u001b[0minterceptor_stack\u001b[0m\u001b[0;34m:\u001b[0m\u001b[0;34m\u001b[0m\u001b[0;34m\u001b[0m\u001b[0m\n\u001b[0;32m--> 279\u001b[0;31m     \u001b[0;32mreturn\u001b[0m \u001b[0mbound_method\u001b[0m\u001b[0;34m(\u001b[0m\u001b[0;34m*\u001b[0m\u001b[0margs\u001b[0m\u001b[0;34m,\u001b[0m \u001b[0;34m**\u001b[0m\u001b[0mkwargs\u001b[0m\u001b[0;34m)\u001b[0m\u001b[0;34m\u001b[0m\u001b[0;34m\u001b[0m\u001b[0m\n\u001b[0m\u001b[1;32m    280\u001b[0m \u001b[0;34m\u001b[0m\u001b[0m\n\u001b[1;32m    281\u001b[0m   ctx = MethodContext(module=self,\n",
      "\u001b[0;32m~/gpt-c/clip_jax/model.py\u001b[0m in \u001b[0;36mencode_text\u001b[0;34m(self, text)\u001b[0m\n\u001b[1;32m    208\u001b[0m \u001b[0;34m\u001b[0m\u001b[0m\n\u001b[1;32m    209\u001b[0m     \u001b[0;32mdef\u001b[0m \u001b[0mencode_text\u001b[0m\u001b[0;34m(\u001b[0m\u001b[0mself\u001b[0m\u001b[0;34m,\u001b[0m \u001b[0mtext\u001b[0m\u001b[0;34m)\u001b[0m\u001b[0;34m:\u001b[0m\u001b[0;34m\u001b[0m\u001b[0;34m\u001b[0m\u001b[0m\n\u001b[0;32m--> 210\u001b[0;31m         \u001b[0mx\u001b[0m \u001b[0;34m=\u001b[0m \u001b[0mself\u001b[0m\u001b[0;34m.\u001b[0m\u001b[0mtoken_embedding\u001b[0m\u001b[0;34m(\u001b[0m\u001b[0mtext\u001b[0m\u001b[0;34m)\u001b[0m  \u001b[0;31m# [batch_size, n_ctx, d_model]\u001b[0m\u001b[0;34m\u001b[0m\u001b[0;34m\u001b[0m\u001b[0m\n\u001b[0m\u001b[1;32m    211\u001b[0m \u001b[0;34m\u001b[0m\u001b[0m\n\u001b[1;32m    212\u001b[0m         \u001b[0mx\u001b[0m \u001b[0;34m=\u001b[0m \u001b[0mx\u001b[0m \u001b[0;34m+\u001b[0m \u001b[0mself\u001b[0m\u001b[0;34m.\u001b[0m\u001b[0mpositional_embedding\u001b[0m\u001b[0;34m\u001b[0m\u001b[0;34m\u001b[0m\u001b[0m\n",
      "\u001b[0;32m~/.anaconda/envs/gpt-c/lib/python3.9/site-packages/haiku/_src/module.py\u001b[0m in \u001b[0;36mwrapped\u001b[0;34m(self, *args, **kwargs)\u001b[0m\n\u001b[1;32m    426\u001b[0m         \u001b[0mf\u001b[0m \u001b[0;34m=\u001b[0m \u001b[0mstateful\u001b[0m\u001b[0;34m.\u001b[0m\u001b[0mnamed_call\u001b[0m\u001b[0;34m(\u001b[0m\u001b[0mf\u001b[0m\u001b[0;34m,\u001b[0m \u001b[0mname\u001b[0m\u001b[0;34m=\u001b[0m\u001b[0mlocal_name\u001b[0m\u001b[0;34m)\u001b[0m\u001b[0;34m\u001b[0m\u001b[0;34m\u001b[0m\u001b[0m\n\u001b[1;32m    427\u001b[0m \u001b[0;34m\u001b[0m\u001b[0m\n\u001b[0;32m--> 428\u001b[0;31m       \u001b[0mout\u001b[0m \u001b[0;34m=\u001b[0m \u001b[0mf\u001b[0m\u001b[0;34m(\u001b[0m\u001b[0;34m*\u001b[0m\u001b[0margs\u001b[0m\u001b[0;34m,\u001b[0m \u001b[0;34m**\u001b[0m\u001b[0mkwargs\u001b[0m\u001b[0;34m)\u001b[0m\u001b[0;34m\u001b[0m\u001b[0;34m\u001b[0m\u001b[0m\n\u001b[0m\u001b[1;32m    429\u001b[0m \u001b[0;34m\u001b[0m\u001b[0m\n\u001b[1;32m    430\u001b[0m       \u001b[0;31m# Module names are set in the constructor. If `f` is the constructor then\u001b[0m\u001b[0;34m\u001b[0m\u001b[0;34m\u001b[0m\u001b[0;34m\u001b[0m\u001b[0m\n",
      "\u001b[0;32m~/.anaconda/envs/gpt-c/lib/python3.9/site-packages/haiku/_src/module.py\u001b[0m in \u001b[0;36mrun_interceptors\u001b[0;34m(bound_method, method_name, self, *args, **kwargs)\u001b[0m\n\u001b[1;32m    277\u001b[0m   \u001b[0;34m\"\"\"Runs any method interceptors or the original method.\"\"\"\u001b[0m\u001b[0;34m\u001b[0m\u001b[0;34m\u001b[0m\u001b[0m\n\u001b[1;32m    278\u001b[0m   \u001b[0;32mif\u001b[0m \u001b[0;32mnot\u001b[0m \u001b[0minterceptor_stack\u001b[0m\u001b[0;34m:\u001b[0m\u001b[0;34m\u001b[0m\u001b[0;34m\u001b[0m\u001b[0m\n\u001b[0;32m--> 279\u001b[0;31m     \u001b[0;32mreturn\u001b[0m \u001b[0mbound_method\u001b[0m\u001b[0;34m(\u001b[0m\u001b[0;34m*\u001b[0m\u001b[0margs\u001b[0m\u001b[0;34m,\u001b[0m \u001b[0;34m**\u001b[0m\u001b[0mkwargs\u001b[0m\u001b[0;34m)\u001b[0m\u001b[0;34m\u001b[0m\u001b[0;34m\u001b[0m\u001b[0m\n\u001b[0m\u001b[1;32m    280\u001b[0m \u001b[0;34m\u001b[0m\u001b[0m\n\u001b[1;32m    281\u001b[0m   ctx = MethodContext(module=self,\n",
      "\u001b[0;32m~/.anaconda/envs/gpt-c/lib/python3.9/site-packages/haiku/_src/embed.py\u001b[0m in \u001b[0;36m__call__\u001b[0;34m(self, ids, lookup_style)\u001b[0m\n\u001b[1;32m    161\u001b[0m       \u001b[0;31m# See https://github.com/google/jax/issues/620 for more details.\u001b[0m\u001b[0;34m\u001b[0m\u001b[0;34m\u001b[0m\u001b[0;34m\u001b[0m\u001b[0m\n\u001b[1;32m    162\u001b[0m       \u001b[0;31m# Cast to a jnp array in case `ids` is a tracer (eg un a dynamic_unroll).\u001b[0m\u001b[0;34m\u001b[0m\u001b[0;34m\u001b[0m\u001b[0;34m\u001b[0m\u001b[0m\n\u001b[0;32m--> 163\u001b[0;31m       \u001b[0;32mreturn\u001b[0m \u001b[0mjnp\u001b[0m\u001b[0;34m.\u001b[0m\u001b[0masarray\u001b[0m\u001b[0;34m(\u001b[0m\u001b[0mself\u001b[0m\u001b[0;34m.\u001b[0m\u001b[0membeddings\u001b[0m\u001b[0;34m)\u001b[0m\u001b[0;34m[\u001b[0m\u001b[0;34m(\u001b[0m\u001b[0mids\u001b[0m\u001b[0;34m,\u001b[0m\u001b[0;34m)\u001b[0m\u001b[0;34m]\u001b[0m\u001b[0;34m\u001b[0m\u001b[0;34m\u001b[0m\u001b[0m\n\u001b[0m\u001b[1;32m    164\u001b[0m \u001b[0;34m\u001b[0m\u001b[0m\n\u001b[1;32m    165\u001b[0m     \u001b[0;32melif\u001b[0m \u001b[0mlookup_style\u001b[0m \u001b[0;34m==\u001b[0m \u001b[0mhk\u001b[0m\u001b[0;34m.\u001b[0m\u001b[0mEmbedLookupStyle\u001b[0m\u001b[0;34m.\u001b[0m\u001b[0mONE_HOT\u001b[0m\u001b[0;34m:\u001b[0m\u001b[0;34m\u001b[0m\u001b[0;34m\u001b[0m\u001b[0m\n",
      "\u001b[0;32m~/.anaconda/envs/gpt-c/lib/python3.9/site-packages/jax/_src/numpy/lax_numpy.py\u001b[0m in \u001b[0;36m_rewriting_take\u001b[0;34m(arr, idx, indices_are_sorted, unique_indices)\u001b[0m\n\u001b[1;32m   5057\u001b[0m   \u001b[0marr\u001b[0m \u001b[0;34m=\u001b[0m \u001b[0masarray\u001b[0m\u001b[0;34m(\u001b[0m\u001b[0marr\u001b[0m\u001b[0;34m)\u001b[0m\u001b[0;34m\u001b[0m\u001b[0;34m\u001b[0m\u001b[0m\n\u001b[1;32m   5058\u001b[0m   \u001b[0mtreedef\u001b[0m\u001b[0;34m,\u001b[0m \u001b[0mstatic_idx\u001b[0m\u001b[0;34m,\u001b[0m \u001b[0mdynamic_idx\u001b[0m \u001b[0;34m=\u001b[0m \u001b[0m_split_index_for_jit\u001b[0m\u001b[0;34m(\u001b[0m\u001b[0midx\u001b[0m\u001b[0;34m,\u001b[0m \u001b[0marr\u001b[0m\u001b[0;34m.\u001b[0m\u001b[0mshape\u001b[0m\u001b[0;34m)\u001b[0m\u001b[0;34m\u001b[0m\u001b[0;34m\u001b[0m\u001b[0m\n\u001b[0;32m-> 5059\u001b[0;31m   return _gather(arr, treedef, static_idx, dynamic_idx, indices_are_sorted,\n\u001b[0m\u001b[1;32m   5060\u001b[0m                  unique_indices)\n\u001b[1;32m   5061\u001b[0m \u001b[0;34m\u001b[0m\u001b[0m\n",
      "\u001b[0;32m~/.anaconda/envs/gpt-c/lib/python3.9/site-packages/jax/_src/numpy/lax_numpy.py\u001b[0m in \u001b[0;36m_gather\u001b[0;34m(arr, treedef, static_idx, dynamic_idx, indices_are_sorted, unique_indices)\u001b[0m\n\u001b[1;32m   5086\u001b[0m \u001b[0;34m\u001b[0m\u001b[0m\n\u001b[1;32m   5087\u001b[0m   \u001b[0;31m# This adds np.newaxis/None dimensions.\u001b[0m\u001b[0;34m\u001b[0m\u001b[0;34m\u001b[0m\u001b[0;34m\u001b[0m\u001b[0m\n\u001b[0;32m-> 5088\u001b[0;31m   \u001b[0;32mreturn\u001b[0m \u001b[0mexpand_dims\u001b[0m\u001b[0;34m(\u001b[0m\u001b[0my\u001b[0m\u001b[0;34m,\u001b[0m \u001b[0mindexer\u001b[0m\u001b[0;34m.\u001b[0m\u001b[0mnewaxis_dims\u001b[0m\u001b[0;34m)\u001b[0m\u001b[0;34m\u001b[0m\u001b[0;34m\u001b[0m\u001b[0m\n\u001b[0m\u001b[1;32m   5089\u001b[0m \u001b[0;34m\u001b[0m\u001b[0m\n\u001b[1;32m   5090\u001b[0m _Indexer = collections.namedtuple(\"_Indexer\", [\n",
      "\u001b[0;32m~/.anaconda/envs/gpt-c/lib/python3.9/site-packages/jax/_src/numpy/lax_numpy.py\u001b[0m in \u001b[0;36mexpand_dims\u001b[0;34m(a, axis)\u001b[0m\n\u001b[1;32m   1509\u001b[0m \u001b[0;32mdef\u001b[0m \u001b[0mexpand_dims\u001b[0m\u001b[0;34m(\u001b[0m\u001b[0ma\u001b[0m\u001b[0;34m,\u001b[0m \u001b[0maxis\u001b[0m\u001b[0;34m:\u001b[0m \u001b[0mUnion\u001b[0m\u001b[0;34m[\u001b[0m\u001b[0mint\u001b[0m\u001b[0;34m,\u001b[0m \u001b[0mSequence\u001b[0m\u001b[0;34m[\u001b[0m\u001b[0mint\u001b[0m\u001b[0;34m]\u001b[0m\u001b[0;34m]\u001b[0m\u001b[0;34m)\u001b[0m\u001b[0;34m:\u001b[0m\u001b[0;34m\u001b[0m\u001b[0;34m\u001b[0m\u001b[0m\n\u001b[1;32m   1510\u001b[0m   \u001b[0m_check_arraylike\u001b[0m\u001b[0;34m(\u001b[0m\u001b[0;34m\"expand_dims\"\u001b[0m\u001b[0;34m,\u001b[0m \u001b[0ma\u001b[0m\u001b[0;34m)\u001b[0m\u001b[0;34m\u001b[0m\u001b[0;34m\u001b[0m\u001b[0m\n\u001b[0;32m-> 1511\u001b[0;31m   \u001b[0;32mreturn\u001b[0m \u001b[0mlax\u001b[0m\u001b[0;34m.\u001b[0m\u001b[0mexpand_dims\u001b[0m\u001b[0;34m(\u001b[0m\u001b[0ma\u001b[0m\u001b[0;34m,\u001b[0m \u001b[0m_ensure_index_tuple\u001b[0m\u001b[0;34m(\u001b[0m\u001b[0maxis\u001b[0m\u001b[0;34m)\u001b[0m\u001b[0;34m)\u001b[0m\u001b[0;34m\u001b[0m\u001b[0;34m\u001b[0m\u001b[0m\n\u001b[0m\u001b[1;32m   1512\u001b[0m \u001b[0;34m\u001b[0m\u001b[0m\n\u001b[1;32m   1513\u001b[0m \u001b[0;34m\u001b[0m\u001b[0m\n",
      "\u001b[0;32m~/.anaconda/envs/gpt-c/lib/python3.9/site-packages/jax/_src/lax/lax.py\u001b[0m in \u001b[0;36mexpand_dims\u001b[0;34m(array, dimensions)\u001b[0m\n\u001b[1;32m   3930\u001b[0m     \u001b[0mresult_shape\u001b[0m\u001b[0;34m.\u001b[0m\u001b[0minsert\u001b[0m\u001b[0;34m(\u001b[0m\u001b[0mi\u001b[0m\u001b[0;34m,\u001b[0m \u001b[0;36m1\u001b[0m\u001b[0;34m)\u001b[0m\u001b[0;34m\u001b[0m\u001b[0;34m\u001b[0m\u001b[0m\n\u001b[1;32m   3931\u001b[0m   \u001b[0mbroadcast_dims\u001b[0m \u001b[0;34m=\u001b[0m \u001b[0;34m[\u001b[0m\u001b[0mi\u001b[0m \u001b[0;32mfor\u001b[0m \u001b[0mi\u001b[0m \u001b[0;32min\u001b[0m \u001b[0mrange\u001b[0m\u001b[0;34m(\u001b[0m\u001b[0mndim_out\u001b[0m\u001b[0;34m)\u001b[0m \u001b[0;32mif\u001b[0m \u001b[0mi\u001b[0m \u001b[0;32mnot\u001b[0m \u001b[0;32min\u001b[0m \u001b[0mdims_set\u001b[0m\u001b[0;34m]\u001b[0m\u001b[0;34m\u001b[0m\u001b[0;34m\u001b[0m\u001b[0m\n\u001b[0;32m-> 3932\u001b[0;31m   \u001b[0;32mreturn\u001b[0m \u001b[0mbroadcast_in_dim\u001b[0m\u001b[0;34m(\u001b[0m\u001b[0marray\u001b[0m\u001b[0;34m,\u001b[0m \u001b[0mresult_shape\u001b[0m\u001b[0;34m,\u001b[0m \u001b[0mbroadcast_dims\u001b[0m\u001b[0;34m)\u001b[0m\u001b[0;34m\u001b[0m\u001b[0;34m\u001b[0m\u001b[0m\n\u001b[0m\u001b[1;32m   3933\u001b[0m \u001b[0;34m\u001b[0m\u001b[0m\n\u001b[1;32m   3934\u001b[0m \u001b[0;34m\u001b[0m\u001b[0m\n",
      "\u001b[0;32m~/.anaconda/envs/gpt-c/lib/python3.9/site-packages/jax/_src/lax/lax.py\u001b[0m in \u001b[0;36mbroadcast_in_dim\u001b[0;34m(operand, shape, broadcast_dimensions)\u001b[0m\n\u001b[1;32m    746\u001b[0m       and isinstance(operand, (xla.DeviceArray, core.Tracer))):\n\u001b[1;32m    747\u001b[0m     \u001b[0;32mreturn\u001b[0m \u001b[0moperand\u001b[0m\u001b[0;34m\u001b[0m\u001b[0;34m\u001b[0m\u001b[0m\n\u001b[0;32m--> 748\u001b[0;31m   return broadcast_in_dim_p.bind(\n\u001b[0m\u001b[1;32m    749\u001b[0m       \u001b[0moperand\u001b[0m\u001b[0;34m,\u001b[0m \u001b[0mshape\u001b[0m\u001b[0;34m=\u001b[0m\u001b[0mtuple\u001b[0m\u001b[0;34m(\u001b[0m\u001b[0mshape\u001b[0m\u001b[0;34m)\u001b[0m\u001b[0;34m,\u001b[0m\u001b[0;34m\u001b[0m\u001b[0;34m\u001b[0m\u001b[0m\n\u001b[1;32m    750\u001b[0m       broadcast_dimensions=tuple(broadcast_dimensions))\n",
      "\u001b[0;32m~/.anaconda/envs/gpt-c/lib/python3.9/site-packages/jax/core.py\u001b[0m in \u001b[0;36mbind\u001b[0;34m(self, *args, **params)\u001b[0m\n\u001b[1;32m    263\u001b[0m         args, used_axis_names(self, params) if self._dispatch_on_params else None)\n\u001b[1;32m    264\u001b[0m     \u001b[0mtracers\u001b[0m \u001b[0;34m=\u001b[0m \u001b[0mmap\u001b[0m\u001b[0;34m(\u001b[0m\u001b[0mtop_trace\u001b[0m\u001b[0;34m.\u001b[0m\u001b[0mfull_raise\u001b[0m\u001b[0;34m,\u001b[0m \u001b[0margs\u001b[0m\u001b[0;34m)\u001b[0m\u001b[0;34m\u001b[0m\u001b[0;34m\u001b[0m\u001b[0m\n\u001b[0;32m--> 265\u001b[0;31m     \u001b[0mout\u001b[0m \u001b[0;34m=\u001b[0m \u001b[0mtop_trace\u001b[0m\u001b[0;34m.\u001b[0m\u001b[0mprocess_primitive\u001b[0m\u001b[0;34m(\u001b[0m\u001b[0mself\u001b[0m\u001b[0;34m,\u001b[0m \u001b[0mtracers\u001b[0m\u001b[0;34m,\u001b[0m \u001b[0mparams\u001b[0m\u001b[0;34m)\u001b[0m\u001b[0;34m\u001b[0m\u001b[0;34m\u001b[0m\u001b[0m\n\u001b[0m\u001b[1;32m    266\u001b[0m     \u001b[0;32mreturn\u001b[0m \u001b[0mmap\u001b[0m\u001b[0;34m(\u001b[0m\u001b[0mfull_lower\u001b[0m\u001b[0;34m,\u001b[0m \u001b[0mout\u001b[0m\u001b[0;34m)\u001b[0m \u001b[0;32mif\u001b[0m \u001b[0mself\u001b[0m\u001b[0;34m.\u001b[0m\u001b[0mmultiple_results\u001b[0m \u001b[0;32melse\u001b[0m \u001b[0mfull_lower\u001b[0m\u001b[0;34m(\u001b[0m\u001b[0mout\u001b[0m\u001b[0;34m)\u001b[0m\u001b[0;34m\u001b[0m\u001b[0;34m\u001b[0m\u001b[0m\n\u001b[1;32m    267\u001b[0m \u001b[0;34m\u001b[0m\u001b[0m\n",
      "\u001b[0;32m~/.anaconda/envs/gpt-c/lib/python3.9/site-packages/jax/core.py\u001b[0m in \u001b[0;36mprocess_primitive\u001b[0;34m(self, primitive, tracers, params)\u001b[0m\n\u001b[1;32m    608\u001b[0m \u001b[0;34m\u001b[0m\u001b[0m\n\u001b[1;32m    609\u001b[0m   \u001b[0;32mdef\u001b[0m \u001b[0mprocess_primitive\u001b[0m\u001b[0;34m(\u001b[0m\u001b[0mself\u001b[0m\u001b[0;34m,\u001b[0m \u001b[0mprimitive\u001b[0m\u001b[0;34m,\u001b[0m \u001b[0mtracers\u001b[0m\u001b[0;34m,\u001b[0m \u001b[0mparams\u001b[0m\u001b[0;34m)\u001b[0m\u001b[0;34m:\u001b[0m\u001b[0;34m\u001b[0m\u001b[0;34m\u001b[0m\u001b[0m\n\u001b[0;32m--> 610\u001b[0;31m     \u001b[0;32mreturn\u001b[0m \u001b[0mprimitive\u001b[0m\u001b[0;34m.\u001b[0m\u001b[0mimpl\u001b[0m\u001b[0;34m(\u001b[0m\u001b[0;34m*\u001b[0m\u001b[0mtracers\u001b[0m\u001b[0;34m,\u001b[0m \u001b[0;34m**\u001b[0m\u001b[0mparams\u001b[0m\u001b[0;34m)\u001b[0m\u001b[0;34m\u001b[0m\u001b[0;34m\u001b[0m\u001b[0m\n\u001b[0m\u001b[1;32m    611\u001b[0m \u001b[0;34m\u001b[0m\u001b[0m\n\u001b[1;32m    612\u001b[0m   \u001b[0;32mdef\u001b[0m \u001b[0mprocess_call\u001b[0m\u001b[0;34m(\u001b[0m\u001b[0mself\u001b[0m\u001b[0;34m,\u001b[0m \u001b[0mprimitive\u001b[0m\u001b[0;34m,\u001b[0m \u001b[0mf\u001b[0m\u001b[0;34m,\u001b[0m \u001b[0mtracers\u001b[0m\u001b[0;34m,\u001b[0m \u001b[0mparams\u001b[0m\u001b[0;34m)\u001b[0m\u001b[0;34m:\u001b[0m\u001b[0;34m\u001b[0m\u001b[0;34m\u001b[0m\u001b[0m\n",
      "\u001b[0;32m~/.anaconda/envs/gpt-c/lib/python3.9/site-packages/jax/interpreters/xla.py\u001b[0m in \u001b[0;36mapply_primitive\u001b[0;34m(prim, *args, **params)\u001b[0m\n\u001b[1;32m    272\u001b[0m   \u001b[0;34m\"\"\"Impl rule that compiles and runs a single primitive 'prim' using XLA.\"\"\"\u001b[0m\u001b[0;34m\u001b[0m\u001b[0;34m\u001b[0m\u001b[0m\n\u001b[1;32m    273\u001b[0m   \u001b[0mcompiled_fun\u001b[0m \u001b[0;34m=\u001b[0m \u001b[0mxla_primitive_callable\u001b[0m\u001b[0;34m(\u001b[0m\u001b[0mprim\u001b[0m\u001b[0;34m,\u001b[0m \u001b[0;34m*\u001b[0m\u001b[0munsafe_map\u001b[0m\u001b[0;34m(\u001b[0m\u001b[0marg_spec\u001b[0m\u001b[0;34m,\u001b[0m \u001b[0margs\u001b[0m\u001b[0;34m)\u001b[0m\u001b[0;34m,\u001b[0m \u001b[0;34m**\u001b[0m\u001b[0mparams\u001b[0m\u001b[0;34m)\u001b[0m\u001b[0;34m\u001b[0m\u001b[0;34m\u001b[0m\u001b[0m\n\u001b[0;32m--> 274\u001b[0;31m   \u001b[0;32mreturn\u001b[0m \u001b[0mcompiled_fun\u001b[0m\u001b[0;34m(\u001b[0m\u001b[0;34m*\u001b[0m\u001b[0margs\u001b[0m\u001b[0;34m)\u001b[0m\u001b[0;34m\u001b[0m\u001b[0;34m\u001b[0m\u001b[0m\n\u001b[0m\u001b[1;32m    275\u001b[0m \u001b[0;34m\u001b[0m\u001b[0m\n\u001b[1;32m    276\u001b[0m \u001b[0;34m\u001b[0m\u001b[0m\n",
      "\u001b[0;32m~/.anaconda/envs/gpt-c/lib/python3.9/site-packages/jax/interpreters/xla.py\u001b[0m in \u001b[0;36m_execute_compiled_primitive\u001b[0;34m(prim, compiled, result_handler, *args)\u001b[0m\n\u001b[1;32m    388\u001b[0m   \u001b[0mdevice\u001b[0m\u001b[0;34m,\u001b[0m \u001b[0;34m=\u001b[0m \u001b[0mcompiled\u001b[0m\u001b[0;34m.\u001b[0m\u001b[0mlocal_devices\u001b[0m\u001b[0;34m(\u001b[0m\u001b[0;34m)\u001b[0m\u001b[0;34m\u001b[0m\u001b[0;34m\u001b[0m\u001b[0m\n\u001b[1;32m    389\u001b[0m   \u001b[0minput_bufs\u001b[0m \u001b[0;34m=\u001b[0m \u001b[0mlist\u001b[0m\u001b[0;34m(\u001b[0m\u001b[0mit\u001b[0m\u001b[0;34m.\u001b[0m\u001b[0mchain\u001b[0m\u001b[0;34m.\u001b[0m\u001b[0mfrom_iterable\u001b[0m\u001b[0;34m(\u001b[0m\u001b[0mdevice_put\u001b[0m\u001b[0;34m(\u001b[0m\u001b[0mx\u001b[0m\u001b[0;34m,\u001b[0m \u001b[0mdevice\u001b[0m\u001b[0;34m)\u001b[0m \u001b[0;32mfor\u001b[0m \u001b[0mx\u001b[0m \u001b[0;32min\u001b[0m \u001b[0margs\u001b[0m \u001b[0;32mif\u001b[0m \u001b[0mx\u001b[0m \u001b[0;32mis\u001b[0m \u001b[0;32mnot\u001b[0m \u001b[0mtoken\u001b[0m\u001b[0;34m)\u001b[0m\u001b[0;34m)\u001b[0m\u001b[0;34m\u001b[0m\u001b[0;34m\u001b[0m\u001b[0m\n\u001b[0;32m--> 390\u001b[0;31m   \u001b[0mout_bufs\u001b[0m \u001b[0;34m=\u001b[0m \u001b[0mcompiled\u001b[0m\u001b[0;34m.\u001b[0m\u001b[0mexecute\u001b[0m\u001b[0;34m(\u001b[0m\u001b[0minput_bufs\u001b[0m\u001b[0;34m)\u001b[0m\u001b[0;34m\u001b[0m\u001b[0;34m\u001b[0m\u001b[0m\n\u001b[0m\u001b[1;32m    391\u001b[0m   \u001b[0mcheck_special\u001b[0m\u001b[0;34m(\u001b[0m\u001b[0mprim\u001b[0m\u001b[0;34m.\u001b[0m\u001b[0mname\u001b[0m\u001b[0;34m,\u001b[0m \u001b[0mout_bufs\u001b[0m\u001b[0;34m)\u001b[0m\u001b[0;34m\u001b[0m\u001b[0;34m\u001b[0m\u001b[0m\n\u001b[1;32m    392\u001b[0m   \u001b[0;32mreturn\u001b[0m \u001b[0mresult_handler\u001b[0m\u001b[0;34m(\u001b[0m\u001b[0;34m*\u001b[0m\u001b[0mout_bufs\u001b[0m\u001b[0;34m)\u001b[0m\u001b[0;34m\u001b[0m\u001b[0;34m\u001b[0m\u001b[0m\n",
      "\u001b[0;31mRuntimeError\u001b[0m: Resource exhausted: Out of memory while trying to allocate 20669530112 bytes."
     ]
    }
   ],
   "source": [
    "%%time\n",
    "text_fn(res)"
   ]
  },
  {
   "cell_type": "code",
   "execution_count": 39,
   "id": "solid-marina",
   "metadata": {},
   "outputs": [],
   "source": [
    "from jax.experimental.maps import xmap, mesh"
   ]
  },
  {
   "cell_type": "code",
   "execution_count": 40,
   "id": "collected-somalia",
   "metadata": {},
   "outputs": [],
   "source": [
    "devices = jax.devices()"
   ]
  },
  {
   "cell_type": "code",
   "execution_count": 41,
   "id": "administrative-castle",
   "metadata": {},
   "outputs": [
    {
     "data": {
      "text/plain": [
       "[GpuDevice(id=0, process_index=0),\n",
       " GpuDevice(id=1, process_index=0),\n",
       " GpuDevice(id=2, process_index=0),\n",
       " GpuDevice(id=3, process_index=0)]"
      ]
     },
     "execution_count": 41,
     "metadata": {},
     "output_type": "execute_result"
    }
   ],
   "source": [
    "devices"
   ]
  },
  {
   "cell_type": "code",
   "execution_count": 42,
   "id": "protective-liquid",
   "metadata": {},
   "outputs": [],
   "source": [
    "d = xmap(text_fn,\n",
    "         in_axes=(['batch', ...]),\n",
    "         out_axes=(['batch', ...]),\n",
    "         axis_resources={'batch': 'b'}) "
   ]
  },
  {
   "cell_type": "code",
   "execution_count": 43,
   "id": "lucky-float",
   "metadata": {},
   "outputs": [
    {
     "name": "stderr",
     "output_type": "stream",
     "text": [
      "2021-08-21 17:29:57.475219: W external/org_tensorflow/tensorflow/core/common_runtime/bfc_allocator.cc:275] Allocator (GPU_0_bfc) ran out of memory trying to allocate 14.45GiB with freed_by_count=0. The caller indicates that this is not a failure, but may mean that there could be performance gains if more memory were available.\n"
     ]
    },
    {
     "ename": "RuntimeError",
     "evalue": "Resource exhausted: Out of memory while trying to allocate 15518924800 bytes.",
     "output_type": "error",
     "traceback": [
      "\u001b[0;31m---------------------------------------------------------------------------\u001b[0m",
      "\u001b[0;31mRuntimeError\u001b[0m                              Traceback (most recent call last)",
      "\u001b[0;32m<timed exec>\u001b[0m in \u001b[0;36m<module>\u001b[0;34m\u001b[0m\n",
      "\u001b[0;32m~/.anaconda/envs/gpt-c/lib/python3.9/site-packages/jax/experimental/maps.py\u001b[0m in \u001b[0;36mfun_mapped\u001b[0;34m(*args)\u001b[0m\n\u001b[1;32m    611\u001b[0m                            \u001b[0;34mf\"which asserts that it should be of rank {spec.expected_rank}, \"\u001b[0m\u001b[0;34m\u001b[0m\u001b[0;34m\u001b[0m\u001b[0m\n\u001b[1;32m    612\u001b[0m                            f\"but the argument has rank {arg.ndim} (and shape {arg.shape})\")\n\u001b[0;32m--> 613\u001b[0;31m     out_flat = xmap_p.bind(\n\u001b[0m\u001b[1;32m    614\u001b[0m       \u001b[0mfun_flat\u001b[0m\u001b[0;34m,\u001b[0m \u001b[0;34m*\u001b[0m\u001b[0margs_flat\u001b[0m\u001b[0;34m,\u001b[0m\u001b[0;34m\u001b[0m\u001b[0;34m\u001b[0m\u001b[0m\n\u001b[1;32m    615\u001b[0m       \u001b[0mname\u001b[0m\u001b[0;34m=\u001b[0m\u001b[0mgetattr\u001b[0m\u001b[0;34m(\u001b[0m\u001b[0mfun\u001b[0m\u001b[0;34m,\u001b[0m \u001b[0;34m'__name__'\u001b[0m\u001b[0;34m,\u001b[0m \u001b[0;34m'<unnamed function>'\u001b[0m\u001b[0;34m)\u001b[0m\u001b[0;34m,\u001b[0m\u001b[0;34m\u001b[0m\u001b[0;34m\u001b[0m\u001b[0m\n",
      "\u001b[0;32m~/.anaconda/envs/gpt-c/lib/python3.9/site-packages/jax/experimental/maps.py\u001b[0m in \u001b[0;36mbind\u001b[0;34m(self, fun, *args, **params)\u001b[0m\n\u001b[1;32m    818\u001b[0m   \u001b[0;32mdef\u001b[0m \u001b[0mbind\u001b[0m\u001b[0;34m(\u001b[0m\u001b[0mself\u001b[0m\u001b[0;34m,\u001b[0m \u001b[0mfun\u001b[0m\u001b[0;34m,\u001b[0m \u001b[0;34m*\u001b[0m\u001b[0margs\u001b[0m\u001b[0;34m,\u001b[0m \u001b[0;34m**\u001b[0m\u001b[0mparams\u001b[0m\u001b[0;34m)\u001b[0m\u001b[0;34m:\u001b[0m\u001b[0;34m\u001b[0m\u001b[0;34m\u001b[0m\u001b[0m\n\u001b[1;32m    819\u001b[0m     \u001b[0;32massert\u001b[0m \u001b[0mlen\u001b[0m\u001b[0;34m(\u001b[0m\u001b[0mparams\u001b[0m\u001b[0;34m[\u001b[0m\u001b[0;34m'in_axes'\u001b[0m\u001b[0;34m]\u001b[0m\u001b[0;34m)\u001b[0m \u001b[0;34m==\u001b[0m \u001b[0mlen\u001b[0m\u001b[0;34m(\u001b[0m\u001b[0margs\u001b[0m\u001b[0;34m)\u001b[0m\u001b[0;34m\u001b[0m\u001b[0;34m\u001b[0m\u001b[0m\n\u001b[0;32m--> 820\u001b[0;31m     \u001b[0;32mreturn\u001b[0m \u001b[0mcore\u001b[0m\u001b[0;34m.\u001b[0m\u001b[0mcall_bind\u001b[0m\u001b[0;34m(\u001b[0m\u001b[0mself\u001b[0m\u001b[0;34m,\u001b[0m \u001b[0mfun\u001b[0m\u001b[0;34m,\u001b[0m \u001b[0;34m*\u001b[0m\u001b[0margs\u001b[0m\u001b[0;34m,\u001b[0m \u001b[0;34m**\u001b[0m\u001b[0mparams\u001b[0m\u001b[0;34m)\u001b[0m  \u001b[0;31m# type: ignore\u001b[0m\u001b[0;34m\u001b[0m\u001b[0;34m\u001b[0m\u001b[0m\n\u001b[0m\u001b[1;32m    821\u001b[0m \u001b[0;34m\u001b[0m\u001b[0m\n\u001b[1;32m    822\u001b[0m   \u001b[0;32mdef\u001b[0m \u001b[0mprocess\u001b[0m\u001b[0;34m(\u001b[0m\u001b[0mself\u001b[0m\u001b[0;34m,\u001b[0m \u001b[0mtrace\u001b[0m\u001b[0;34m,\u001b[0m \u001b[0mfun\u001b[0m\u001b[0;34m,\u001b[0m \u001b[0mtracers\u001b[0m\u001b[0;34m,\u001b[0m \u001b[0mparams\u001b[0m\u001b[0;34m)\u001b[0m\u001b[0;34m:\u001b[0m\u001b[0;34m\u001b[0m\u001b[0;34m\u001b[0m\u001b[0m\n",
      "\u001b[0;32m~/.anaconda/envs/gpt-c/lib/python3.9/site-packages/jax/core.py\u001b[0m in \u001b[0;36mcall_bind\u001b[0;34m(primitive, fun, *args, **params)\u001b[0m\n\u001b[1;32m   1603\u001b[0m       params_tuple, out_axes_transforms)\n\u001b[1;32m   1604\u001b[0m   \u001b[0mtracers\u001b[0m \u001b[0;34m=\u001b[0m \u001b[0mmap\u001b[0m\u001b[0;34m(\u001b[0m\u001b[0mtop_trace\u001b[0m\u001b[0;34m.\u001b[0m\u001b[0mfull_raise\u001b[0m\u001b[0;34m,\u001b[0m \u001b[0margs\u001b[0m\u001b[0;34m)\u001b[0m\u001b[0;34m\u001b[0m\u001b[0;34m\u001b[0m\u001b[0m\n\u001b[0;32m-> 1605\u001b[0;31m   \u001b[0mouts\u001b[0m \u001b[0;34m=\u001b[0m \u001b[0mprimitive\u001b[0m\u001b[0;34m.\u001b[0m\u001b[0mprocess\u001b[0m\u001b[0;34m(\u001b[0m\u001b[0mtop_trace\u001b[0m\u001b[0;34m,\u001b[0m \u001b[0mfun\u001b[0m\u001b[0;34m,\u001b[0m \u001b[0mtracers\u001b[0m\u001b[0;34m,\u001b[0m \u001b[0mparams\u001b[0m\u001b[0;34m)\u001b[0m\u001b[0;34m\u001b[0m\u001b[0;34m\u001b[0m\u001b[0m\n\u001b[0m\u001b[1;32m   1606\u001b[0m   \u001b[0;32mreturn\u001b[0m \u001b[0mmap\u001b[0m\u001b[0;34m(\u001b[0m\u001b[0mfull_lower\u001b[0m\u001b[0;34m,\u001b[0m \u001b[0mapply_todos\u001b[0m\u001b[0;34m(\u001b[0m\u001b[0menv_trace_todo\u001b[0m\u001b[0;34m(\u001b[0m\u001b[0;34m)\u001b[0m\u001b[0;34m,\u001b[0m \u001b[0mouts\u001b[0m\u001b[0;34m)\u001b[0m\u001b[0;34m)\u001b[0m\u001b[0;34m\u001b[0m\u001b[0;34m\u001b[0m\u001b[0m\n\u001b[1;32m   1607\u001b[0m \u001b[0;34m\u001b[0m\u001b[0m\n",
      "\u001b[0;32m~/.anaconda/envs/gpt-c/lib/python3.9/site-packages/jax/experimental/maps.py\u001b[0m in \u001b[0;36mprocess\u001b[0;34m(self, trace, fun, tracers, params)\u001b[0m\n\u001b[1;32m    821\u001b[0m \u001b[0;34m\u001b[0m\u001b[0m\n\u001b[1;32m    822\u001b[0m   \u001b[0;32mdef\u001b[0m \u001b[0mprocess\u001b[0m\u001b[0;34m(\u001b[0m\u001b[0mself\u001b[0m\u001b[0;34m,\u001b[0m \u001b[0mtrace\u001b[0m\u001b[0;34m,\u001b[0m \u001b[0mfun\u001b[0m\u001b[0;34m,\u001b[0m \u001b[0mtracers\u001b[0m\u001b[0;34m,\u001b[0m \u001b[0mparams\u001b[0m\u001b[0;34m)\u001b[0m\u001b[0;34m:\u001b[0m\u001b[0;34m\u001b[0m\u001b[0;34m\u001b[0m\u001b[0m\n\u001b[0;32m--> 823\u001b[0;31m     \u001b[0;32mreturn\u001b[0m \u001b[0mtrace\u001b[0m\u001b[0;34m.\u001b[0m\u001b[0mprocess_xmap\u001b[0m\u001b[0;34m(\u001b[0m\u001b[0mself\u001b[0m\u001b[0;34m,\u001b[0m \u001b[0mfun\u001b[0m\u001b[0;34m,\u001b[0m \u001b[0mtracers\u001b[0m\u001b[0;34m,\u001b[0m \u001b[0mparams\u001b[0m\u001b[0;34m)\u001b[0m\u001b[0;34m\u001b[0m\u001b[0;34m\u001b[0m\u001b[0m\n\u001b[0m\u001b[1;32m    824\u001b[0m \u001b[0;34m\u001b[0m\u001b[0m\n\u001b[1;32m    825\u001b[0m   \u001b[0;32mdef\u001b[0m \u001b[0mpost_process\u001b[0m\u001b[0;34m(\u001b[0m\u001b[0mself\u001b[0m\u001b[0;34m,\u001b[0m \u001b[0mtrace\u001b[0m\u001b[0;34m,\u001b[0m \u001b[0mout_tracers\u001b[0m\u001b[0;34m,\u001b[0m \u001b[0mparams\u001b[0m\u001b[0;34m)\u001b[0m\u001b[0;34m:\u001b[0m\u001b[0;34m\u001b[0m\u001b[0;34m\u001b[0m\u001b[0m\n",
      "\u001b[0;32m~/.anaconda/envs/gpt-c/lib/python3.9/site-packages/jax/core.py\u001b[0m in \u001b[0;36mprocess_call\u001b[0;34m(self, primitive, f, tracers, params)\u001b[0m\n\u001b[1;32m    611\u001b[0m \u001b[0;34m\u001b[0m\u001b[0m\n\u001b[1;32m    612\u001b[0m   \u001b[0;32mdef\u001b[0m \u001b[0mprocess_call\u001b[0m\u001b[0;34m(\u001b[0m\u001b[0mself\u001b[0m\u001b[0;34m,\u001b[0m \u001b[0mprimitive\u001b[0m\u001b[0;34m,\u001b[0m \u001b[0mf\u001b[0m\u001b[0;34m,\u001b[0m \u001b[0mtracers\u001b[0m\u001b[0;34m,\u001b[0m \u001b[0mparams\u001b[0m\u001b[0;34m)\u001b[0m\u001b[0;34m:\u001b[0m\u001b[0;34m\u001b[0m\u001b[0;34m\u001b[0m\u001b[0m\n\u001b[0;32m--> 613\u001b[0;31m     \u001b[0;32mreturn\u001b[0m \u001b[0mprimitive\u001b[0m\u001b[0;34m.\u001b[0m\u001b[0mimpl\u001b[0m\u001b[0;34m(\u001b[0m\u001b[0mf\u001b[0m\u001b[0;34m,\u001b[0m \u001b[0;34m*\u001b[0m\u001b[0mtracers\u001b[0m\u001b[0;34m,\u001b[0m \u001b[0;34m**\u001b[0m\u001b[0mparams\u001b[0m\u001b[0;34m)\u001b[0m\u001b[0;34m\u001b[0m\u001b[0;34m\u001b[0m\u001b[0m\n\u001b[0m\u001b[1;32m    614\u001b[0m   \u001b[0mprocess_map\u001b[0m \u001b[0;34m=\u001b[0m \u001b[0mprocess_call\u001b[0m\u001b[0;34m\u001b[0m\u001b[0;34m\u001b[0m\u001b[0m\n\u001b[1;32m    615\u001b[0m \u001b[0;34m\u001b[0m\u001b[0m\n",
      "\u001b[0;32m~/.anaconda/envs/gpt-c/lib/python3.9/site-packages/jax/experimental/maps.py\u001b[0m in \u001b[0;36mxmap_impl\u001b[0;34m(fun, name, in_axes, out_axes_thunk, donated_invars, global_axis_sizes, axis_resources, resource_env, backend, spmd_in_axes, spmd_out_axes_thunk, *args)\u001b[0m\n\u001b[1;32m    642\u001b[0m               spmd_in_axes, spmd_out_axes_thunk):\n\u001b[1;32m    643\u001b[0m   \u001b[0min_avals\u001b[0m \u001b[0;34m=\u001b[0m \u001b[0;34m[\u001b[0m\u001b[0mcore\u001b[0m\u001b[0;34m.\u001b[0m\u001b[0mraise_to_shaped\u001b[0m\u001b[0;34m(\u001b[0m\u001b[0mcore\u001b[0m\u001b[0;34m.\u001b[0m\u001b[0mget_aval\u001b[0m\u001b[0;34m(\u001b[0m\u001b[0marg\u001b[0m\u001b[0;34m)\u001b[0m\u001b[0;34m)\u001b[0m \u001b[0;32mfor\u001b[0m \u001b[0marg\u001b[0m \u001b[0;32min\u001b[0m \u001b[0margs\u001b[0m\u001b[0;34m]\u001b[0m\u001b[0;34m\u001b[0m\u001b[0;34m\u001b[0m\u001b[0m\n\u001b[0;32m--> 644\u001b[0;31m   xmap_callable = make_xmap_callable(\n\u001b[0m\u001b[1;32m    645\u001b[0m       \u001b[0mfun\u001b[0m\u001b[0;34m,\u001b[0m \u001b[0mname\u001b[0m\u001b[0;34m,\u001b[0m \u001b[0min_axes\u001b[0m\u001b[0;34m,\u001b[0m \u001b[0mout_axes_thunk\u001b[0m\u001b[0;34m,\u001b[0m \u001b[0mdonated_invars\u001b[0m\u001b[0;34m,\u001b[0m \u001b[0mglobal_axis_sizes\u001b[0m\u001b[0;34m,\u001b[0m\u001b[0;34m\u001b[0m\u001b[0;34m\u001b[0m\u001b[0m\n\u001b[1;32m    646\u001b[0m       \u001b[0maxis_resources\u001b[0m\u001b[0;34m,\u001b[0m \u001b[0mresource_env\u001b[0m\u001b[0;34m,\u001b[0m \u001b[0mbackend\u001b[0m\u001b[0;34m,\u001b[0m\u001b[0;34m\u001b[0m\u001b[0;34m\u001b[0m\u001b[0m\n",
      "\u001b[0;32m~/.anaconda/envs/gpt-c/lib/python3.9/site-packages/jax/linear_util.py\u001b[0m in \u001b[0;36mmemoized_fun\u001b[0;34m(fun, *args)\u001b[0m\n\u001b[1;32m    260\u001b[0m       \u001b[0mfun\u001b[0m\u001b[0;34m.\u001b[0m\u001b[0mpopulate_stores\u001b[0m\u001b[0;34m(\u001b[0m\u001b[0mstores\u001b[0m\u001b[0;34m)\u001b[0m\u001b[0;34m\u001b[0m\u001b[0;34m\u001b[0m\u001b[0m\n\u001b[1;32m    261\u001b[0m     \u001b[0;32melse\u001b[0m\u001b[0;34m:\u001b[0m\u001b[0;34m\u001b[0m\u001b[0;34m\u001b[0m\u001b[0m\n\u001b[0;32m--> 262\u001b[0;31m       \u001b[0mans\u001b[0m \u001b[0;34m=\u001b[0m \u001b[0mcall\u001b[0m\u001b[0;34m(\u001b[0m\u001b[0mfun\u001b[0m\u001b[0;34m,\u001b[0m \u001b[0;34m*\u001b[0m\u001b[0margs\u001b[0m\u001b[0;34m)\u001b[0m\u001b[0;34m\u001b[0m\u001b[0;34m\u001b[0m\u001b[0m\n\u001b[0m\u001b[1;32m    263\u001b[0m       \u001b[0mcache\u001b[0m\u001b[0;34m[\u001b[0m\u001b[0mkey\u001b[0m\u001b[0;34m]\u001b[0m \u001b[0;34m=\u001b[0m \u001b[0;34m(\u001b[0m\u001b[0mans\u001b[0m\u001b[0;34m,\u001b[0m \u001b[0mfun\u001b[0m\u001b[0;34m.\u001b[0m\u001b[0mstores\u001b[0m\u001b[0;34m)\u001b[0m\u001b[0;34m\u001b[0m\u001b[0;34m\u001b[0m\u001b[0m\n\u001b[1;32m    264\u001b[0m \u001b[0;34m\u001b[0m\u001b[0m\n",
      "\u001b[0;32m~/.anaconda/envs/gpt-c/lib/python3.9/site-packages/jax/experimental/maps.py\u001b[0m in \u001b[0;36mmake_xmap_callable\u001b[0;34m(fun, name, in_axes, out_axes_thunk, donated_invars, global_axis_sizes, axis_resources, resource_env, backend, spmd_in_axes, spmd_out_axes_thunk, *in_avals)\u001b[0m\n\u001b[1;32m    691\u001b[0m     \u001b[0;32massert\u001b[0m \u001b[0mspmd_in_axes\u001b[0m \u001b[0;32mis\u001b[0m \u001b[0;32mNone\u001b[0m \u001b[0;32mand\u001b[0m \u001b[0mspmd_out_axes_thunk\u001b[0m \u001b[0;32mis\u001b[0m \u001b[0;32mNone\u001b[0m  \u001b[0;31m# No outer xmaps, so should be None\u001b[0m\u001b[0;34m\u001b[0m\u001b[0;34m\u001b[0m\u001b[0m\n\u001b[1;32m    692\u001b[0m     \u001b[0mmesh_in_axes\u001b[0m\u001b[0;34m,\u001b[0m \u001b[0mmesh_out_axes\u001b[0m \u001b[0;34m=\u001b[0m \u001b[0mplan\u001b[0m\u001b[0;34m.\u001b[0m\u001b[0mto_mesh_axes\u001b[0m\u001b[0;34m(\u001b[0m\u001b[0min_axes\u001b[0m\u001b[0;34m,\u001b[0m \u001b[0mout_axes\u001b[0m\u001b[0;34m)\u001b[0m\u001b[0;34m\u001b[0m\u001b[0;34m\u001b[0m\u001b[0m\n\u001b[0;32m--> 693\u001b[0;31m     return pxla.mesh_callable(f,\n\u001b[0m\u001b[1;32m    694\u001b[0m                               \u001b[0mname\u001b[0m\u001b[0;34m,\u001b[0m\u001b[0;34m\u001b[0m\u001b[0;34m\u001b[0m\u001b[0m\n\u001b[1;32m    695\u001b[0m                               \u001b[0mbackend\u001b[0m\u001b[0;34m,\u001b[0m\u001b[0;34m\u001b[0m\u001b[0;34m\u001b[0m\u001b[0m\n",
      "\u001b[0;32m~/.anaconda/envs/gpt-c/lib/python3.9/site-packages/jax/interpreters/pxla.py\u001b[0m in \u001b[0;36mmesh_callable\u001b[0;34m(fun, transformed_name, backend_name, mesh, in_axes, out_axes, donated_invars, spmd_lowering, tile_by_mesh_axes, do_resource_typecheck, *local_in_untiled_avals)\u001b[0m\n\u001b[1;32m   1625\u001b[0m   \u001b[0mbuilt\u001b[0m \u001b[0;34m=\u001b[0m \u001b[0mc\u001b[0m\u001b[0;34m.\u001b[0m\u001b[0mBuild\u001b[0m\u001b[0;34m(\u001b[0m\u001b[0mout_tuple\u001b[0m\u001b[0;34m)\u001b[0m\u001b[0;34m\u001b[0m\u001b[0;34m\u001b[0m\u001b[0m\n\u001b[1;32m   1626\u001b[0m \u001b[0;34m\u001b[0m\u001b[0m\n\u001b[0;32m-> 1627\u001b[0;31m   return compile_and_wrap_mesh_hlo(built, backend, mesh, local_in_untiled_avals,\n\u001b[0m\u001b[1;32m   1628\u001b[0m                                    \u001b[0mlocal_out_untiled_avals\u001b[0m\u001b[0;34m,\u001b[0m \u001b[0min_axes\u001b[0m\u001b[0;34m,\u001b[0m \u001b[0mout_axes\u001b[0m\u001b[0;34m,\u001b[0m\u001b[0;34m\u001b[0m\u001b[0;34m\u001b[0m\u001b[0m\n\u001b[1;32m   1629\u001b[0m                                    spmd_lowering, tuple_args)\n",
      "\u001b[0;32m~/.anaconda/envs/gpt-c/lib/python3.9/site-packages/jax/interpreters/pxla.py\u001b[0m in \u001b[0;36mcompile_and_wrap_mesh_hlo\u001b[0;34m(computation, backend, mesh, local_in_untiled_avals, local_out_untiled_avals, in_axes, out_axes, spmd_lowering, tuple_args)\u001b[0m\n\u001b[1;32m   1671\u001b[0m                                       \u001b[0minput_indices\u001b[0m\u001b[0;34m,\u001b[0m \u001b[0mlocal_input_specs\u001b[0m\u001b[0;34m,\u001b[0m\u001b[0;34m\u001b[0m\u001b[0;34m\u001b[0m\u001b[0m\n\u001b[1;32m   1672\u001b[0m                                       handle_outs)\n\u001b[0;32m-> 1673\u001b[0;31m   \u001b[0mcompiled\u001b[0m \u001b[0;34m=\u001b[0m \u001b[0mxla\u001b[0m\u001b[0;34m.\u001b[0m\u001b[0mcompile_or_get_cached\u001b[0m\u001b[0;34m(\u001b[0m\u001b[0mbackend\u001b[0m\u001b[0;34m,\u001b[0m \u001b[0mcomputation\u001b[0m\u001b[0;34m,\u001b[0m \u001b[0mcompile_options\u001b[0m\u001b[0;34m)\u001b[0m\u001b[0;34m\u001b[0m\u001b[0;34m\u001b[0m\u001b[0m\n\u001b[0m\u001b[1;32m   1674\u001b[0m   \u001b[0mhandle_args\u001b[0m \u001b[0;34m=\u001b[0m \u001b[0mpartial\u001b[0m\u001b[0;34m(\u001b[0m\u001b[0mshard_args\u001b[0m\u001b[0;34m,\u001b[0m \u001b[0mcompiled\u001b[0m\u001b[0;34m.\u001b[0m\u001b[0mlocal_devices\u001b[0m\u001b[0;34m(\u001b[0m\u001b[0;34m)\u001b[0m\u001b[0;34m,\u001b[0m \u001b[0minput_indices\u001b[0m\u001b[0;34m)\u001b[0m\u001b[0;34m\u001b[0m\u001b[0;34m\u001b[0m\u001b[0m\n\u001b[1;32m   1675\u001b[0m   \u001b[0;32mreturn\u001b[0m \u001b[0mpartial\u001b[0m\u001b[0;34m(\u001b[0m\u001b[0mexecute_replicated\u001b[0m\u001b[0;34m,\u001b[0m \u001b[0mcompiled\u001b[0m\u001b[0;34m,\u001b[0m \u001b[0mbackend\u001b[0m\u001b[0;34m,\u001b[0m \u001b[0mhandle_args\u001b[0m\u001b[0;34m,\u001b[0m \u001b[0mhandle_outs\u001b[0m\u001b[0;34m)\u001b[0m\u001b[0;34m\u001b[0m\u001b[0;34m\u001b[0m\u001b[0m\n",
      "\u001b[0;32m~/.anaconda/envs/gpt-c/lib/python3.9/site-packages/jax/interpreters/xla.py\u001b[0m in \u001b[0;36mcompile_or_get_cached\u001b[0;34m(backend, computation, compile_options)\u001b[0m\n\u001b[1;32m     79\u001b[0m             \u001b[0mcc\u001b[0m\u001b[0;34m.\u001b[0m\u001b[0mput_executable\u001b[0m\u001b[0;34m(\u001b[0m\u001b[0mcomputation\u001b[0m\u001b[0;34m,\u001b[0m \u001b[0mcompile_options\u001b[0m\u001b[0;34m,\u001b[0m \u001b[0mcompiled\u001b[0m\u001b[0;34m,\u001b[0m \u001b[0mbackend\u001b[0m\u001b[0;34m)\u001b[0m\u001b[0;34m\u001b[0m\u001b[0;34m\u001b[0m\u001b[0m\n\u001b[1;32m     80\u001b[0m             \u001b[0;32mreturn\u001b[0m \u001b[0mcompiled\u001b[0m\u001b[0;34m\u001b[0m\u001b[0;34m\u001b[0m\u001b[0m\n\u001b[0;32m---> 81\u001b[0;31m     \u001b[0;32mreturn\u001b[0m \u001b[0mbackend_compile\u001b[0m\u001b[0;34m(\u001b[0m\u001b[0mbackend\u001b[0m\u001b[0;34m,\u001b[0m \u001b[0mcomputation\u001b[0m\u001b[0;34m,\u001b[0m \u001b[0mcompile_options\u001b[0m\u001b[0;34m)\u001b[0m\u001b[0;34m\u001b[0m\u001b[0;34m\u001b[0m\u001b[0m\n\u001b[0m\u001b[1;32m     82\u001b[0m \u001b[0;34m\u001b[0m\u001b[0m\n\u001b[1;32m     83\u001b[0m \u001b[0;32mdef\u001b[0m \u001b[0midentity\u001b[0m\u001b[0;34m(\u001b[0m\u001b[0mx\u001b[0m\u001b[0;34m)\u001b[0m\u001b[0;34m:\u001b[0m \u001b[0;32mreturn\u001b[0m \u001b[0mx\u001b[0m\u001b[0;34m\u001b[0m\u001b[0;34m\u001b[0m\u001b[0m\n",
      "\u001b[0;32m~/.anaconda/envs/gpt-c/lib/python3.9/site-packages/jax/interpreters/xla.py\u001b[0m in \u001b[0;36mbackend_compile\u001b[0;34m(backend, built_c, options)\u001b[0m\n\u001b[1;32m    383\u001b[0m   \u001b[0;31m# we use a separate function call to ensure that XLA compilation appears\u001b[0m\u001b[0;34m\u001b[0m\u001b[0;34m\u001b[0m\u001b[0;34m\u001b[0m\u001b[0m\n\u001b[1;32m    384\u001b[0m   \u001b[0;31m# separately in Python profiling results\u001b[0m\u001b[0;34m\u001b[0m\u001b[0;34m\u001b[0m\u001b[0;34m\u001b[0m\u001b[0m\n\u001b[0;32m--> 385\u001b[0;31m   \u001b[0;32mreturn\u001b[0m \u001b[0mbackend\u001b[0m\u001b[0;34m.\u001b[0m\u001b[0mcompile\u001b[0m\u001b[0;34m(\u001b[0m\u001b[0mbuilt_c\u001b[0m\u001b[0;34m,\u001b[0m \u001b[0mcompile_options\u001b[0m\u001b[0;34m=\u001b[0m\u001b[0moptions\u001b[0m\u001b[0;34m)\u001b[0m\u001b[0;34m\u001b[0m\u001b[0;34m\u001b[0m\u001b[0m\n\u001b[0m\u001b[1;32m    386\u001b[0m \u001b[0;34m\u001b[0m\u001b[0m\n\u001b[1;32m    387\u001b[0m \u001b[0;32mdef\u001b[0m \u001b[0m_execute_compiled_primitive\u001b[0m\u001b[0;34m(\u001b[0m\u001b[0mprim\u001b[0m\u001b[0;34m,\u001b[0m \u001b[0mcompiled\u001b[0m\u001b[0;34m,\u001b[0m \u001b[0mresult_handler\u001b[0m\u001b[0;34m,\u001b[0m \u001b[0;34m*\u001b[0m\u001b[0margs\u001b[0m\u001b[0;34m)\u001b[0m\u001b[0;34m:\u001b[0m\u001b[0;34m\u001b[0m\u001b[0;34m\u001b[0m\u001b[0m\n",
      "\u001b[0;31mRuntimeError\u001b[0m: Resource exhausted: Out of memory while trying to allocate 15518924800 bytes."
     ]
    }
   ],
   "source": [
    "%%time\n",
    "with mesh(jax.devices(), 'b'):\n",
    "    clip_embedding = d(clip_input)\n",
    "clip_embedding.block_until_ready()\n",
    "pass"
   ]
  },
  {
   "cell_type": "code",
   "execution_count": 44,
   "id": "speaking-portable",
   "metadata": {},
   "outputs": [
    {
     "ename": "NameError",
     "evalue": "name 'clip_embedding' is not defined",
     "output_type": "error",
     "traceback": [
      "\u001b[0;31m---------------------------------------------------------------------------\u001b[0m",
      "\u001b[0;31mNameError\u001b[0m                                 Traceback (most recent call last)",
      "\u001b[0;32m/tmp/ipykernel_219366/2594466330.py\u001b[0m in \u001b[0;36m<module>\u001b[0;34m\u001b[0m\n\u001b[0;32m----> 1\u001b[0;31m \u001b[0mclip_embedding\u001b[0m\u001b[0;34m.\u001b[0m\u001b[0mshape\u001b[0m\u001b[0;34m\u001b[0m\u001b[0;34m\u001b[0m\u001b[0m\n\u001b[0m",
      "\u001b[0;31mNameError\u001b[0m: name 'clip_embedding' is not defined"
     ]
    }
   ],
   "source": [
    "clip_embedding.shape"
   ]
  },
  {
   "cell_type": "code",
   "execution_count": 45,
   "id": "widespread-commercial",
   "metadata": {},
   "outputs": [],
   "source": [
    "def scanned(_, x):\n",
    "    return _, text_fn(x)"
   ]
  },
  {
   "cell_type": "code",
   "execution_count": 46,
   "id": "representative-challenge",
   "metadata": {},
   "outputs": [
    {
     "name": "stdout",
     "output_type": "stream",
     "text": [
      "CPU times: user 48.9 s, sys: 20 s, total: 1min 8s\n",
      "Wall time: 49.7 s\n"
     ]
    }
   ],
   "source": [
    "%%time\n",
    "_, clip_embedding = jax.lax.scan(scanned, None, xs=clip_input)\n",
    "clip_embedding.block_until_ready()\n",
    "pass"
   ]
  },
  {
   "cell_type": "code",
   "execution_count": 47,
   "id": "noticed-closure",
   "metadata": {},
   "outputs": [
    {
     "data": {
      "text/plain": [
       "(4, 1024, 32, 77)"
      ]
     },
     "execution_count": 47,
     "metadata": {},
     "output_type": "execute_result"
    }
   ],
   "source": [
    "b, l, c = clip_input.shape\n",
    "dc = jax.local_device_count()\n",
    "res = clip_input.reshape(dc, b//dc*64, l//64, c)\n",
    "res.shape"
   ]
  },
  {
   "cell_type": "code",
   "execution_count": 48,
   "id": "executed-hudson",
   "metadata": {},
   "outputs": [],
   "source": [
    "def scan(x):\n",
    "    _, clip_embedding = jax.lax.scan(scanned, None, xs=x)\n",
    "    return clip_embedding"
   ]
  },
  {
   "cell_type": "code",
   "execution_count": 49,
   "id": "dental-confidentiality",
   "metadata": {},
   "outputs": [
    {
     "name": "stdout",
     "output_type": "stream",
     "text": [
      "CPU times: user 52.3 s, sys: 18.8 s, total: 1min 11s\n",
      "Wall time: 15.5 s\n"
     ]
    }
   ],
   "source": [
    "%%time\n",
    "clip_embedding = jax.pmap(scan)(res)\n",
    "clip_embedding = clip_embedding.reshape(b, l, 512)\n",
    "clip_embedding.block_until_ready()\n",
    "pass"
   ]
  },
  {
   "cell_type": "code",
   "execution_count": 50,
   "id": "proprietary-glasgow",
   "metadata": {},
   "outputs": [
    {
     "data": {
      "text/plain": [
       "(64, 2048, 512)"
      ]
     },
     "execution_count": 50,
     "metadata": {},
     "output_type": "execute_result"
    }
   ],
   "source": [
    "clip_embedding.shape"
   ]
  },
  {
   "cell_type": "code",
   "execution_count": 51,
   "id": "consistent-improvement",
   "metadata": {},
   "outputs": [],
   "source": [
    "from functools import partial"
   ]
  },
  {
   "cell_type": "code",
   "execution_count": 52,
   "id": "rotary-acrobat",
   "metadata": {},
   "outputs": [],
   "source": [
    "mapped = partial(jax.lax.map, text_fn)"
   ]
  },
  {
   "cell_type": "code",
   "execution_count": 53,
   "id": "imposed-petersburg",
   "metadata": {},
   "outputs": [
    {
     "name": "stdout",
     "output_type": "stream",
     "text": [
      "CPU times: user 52.9 s, sys: 17.9 s, total: 1min 10s\n",
      "Wall time: 13.6 s\n"
     ]
    }
   ],
   "source": [
    "%%time\n",
    "clip_embedding = jax.pmap(mapped)(res)\n",
    "clip_embedding = clip_embedding.reshape(b, l, 512)\n",
    "clip_embedding.block_until_ready()\n",
    "pass"
   ]
  },
  {
   "cell_type": "code",
   "execution_count": 54,
   "id": "individual-remainder",
   "metadata": {},
   "outputs": [],
   "source": [
    "max_seq_len = 2048"
   ]
  },
  {
   "cell_type": "code",
   "execution_count": 55,
   "id": "virgin-dylan",
   "metadata": {},
   "outputs": [],
   "source": [
    "context_length = 75"
   ]
  },
  {
   "cell_type": "code",
   "execution_count": 56,
   "id": "elder-witch",
   "metadata": {},
   "outputs": [],
   "source": [
    "transformer_width = 512"
   ]
  },
  {
   "cell_type": "code",
   "execution_count": 57,
   "id": "played-newcastle",
   "metadata": {},
   "outputs": [],
   "source": [
    "clip_embedding = clip_embedding[:,:75,:]"
   ]
  },
  {
   "cell_type": "code",
   "execution_count": 58,
   "id": "alleged-ecuador",
   "metadata": {},
   "outputs": [
    {
     "data": {
      "text/plain": [
       "(64, 75, 512)"
      ]
     },
     "execution_count": 58,
     "metadata": {},
     "output_type": "execute_result"
    }
   ],
   "source": [
    "clip_embedding.shape"
   ]
  },
  {
   "cell_type": "code",
   "execution_count": 59,
   "id": "wanted-outside",
   "metadata": {},
   "outputs": [],
   "source": [
    "k = clip_embedding\n",
    "q = clip_embedding\n",
    "v = clip_embedding"
   ]
  },
  {
   "cell_type": "code",
   "execution_count": 60,
   "id": "aerial-seeking",
   "metadata": {},
   "outputs": [
    {
     "data": {
      "text/plain": [
       "DeviceArray([[[-1.27166688e-01,  1.97072387e-01, -1.00960121e-01, ...,\n",
       "               -4.07567397e-02,  8.89264867e-02, -5.05541377e-02],\n",
       "              [-3.04048061e-01,  1.42297626e-01, -2.12778747e-01, ...,\n",
       "                6.25961661e-01,  2.60466561e-02,  2.03563780e-01],\n",
       "              [-2.54633695e-01,  1.61029398e-01, -2.61954725e-01, ...,\n",
       "                5.58265090e-01, -1.81519408e-02,  4.72949669e-02],\n",
       "              ...,\n",
       "              [-3.66377890e-01,  1.48722440e-01, -7.17692636e-03, ...,\n",
       "                2.59172529e-01,  3.92375477e-02,  3.31961364e-02],\n",
       "              [-3.61875117e-01,  1.25733733e-01,  1.78049318e-03, ...,\n",
       "                2.38077253e-01,  5.48923276e-02,  2.24524215e-02],\n",
       "              [-2.90850163e-01,  1.95316732e-01, -4.30019833e-02, ...,\n",
       "                3.00663948e-01, -3.73106450e-03, -1.06333271e-01]],\n",
       "\n",
       "             [[ 3.99326608e-02, -6.54429048e-02, -5.32164238e-02, ...,\n",
       "                1.52062416e-01, -2.04652101e-01, -4.92503792e-02],\n",
       "              [ 4.72478196e-02, -2.98462510e-01,  1.18142873e-01, ...,\n",
       "                3.51020157e-01, -6.82114363e-02, -1.79665297e-01],\n",
       "              [ 3.29261422e-02, -1.33979112e-01,  2.05117315e-02, ...,\n",
       "                3.79166543e-01, -5.03962860e-02, -3.97877514e-01],\n",
       "              ...,\n",
       "              [-2.26504385e-01, -1.17460504e-01,  6.40746430e-02, ...,\n",
       "               -3.13664585e-01, -4.51244935e-02, -2.73434132e-01],\n",
       "              [-2.22811252e-01, -1.32647693e-01,  7.07799047e-02, ...,\n",
       "               -2.75646150e-01, -5.99859394e-02, -2.88759112e-01],\n",
       "              [-2.10294336e-01, -3.92298996e-02,  5.81394471e-02, ...,\n",
       "               -3.30871999e-01, -1.61462113e-01, -2.33808815e-01]],\n",
       "\n",
       "             [[ 1.68565568e-02, -1.20812029e-01,  3.21760774e-03, ...,\n",
       "               -4.08309758e-01, -2.70637453e-01,  1.28108814e-01],\n",
       "              [-1.04592331e-01, -2.96635866e-01, -3.30895931e-02, ...,\n",
       "                5.29551655e-02,  1.06266566e-01,  3.89000654e-01],\n",
       "              [-1.27187744e-02, -4.48142961e-02, -1.60408035e-01, ...,\n",
       "               -1.66428499e-02,  4.26602274e-01,  3.33219886e-01],\n",
       "              ...,\n",
       "              [-1.23203568e-01, -7.05255270e-02,  6.54130522e-03, ...,\n",
       "               -2.42896095e-01,  4.17381465e-01,  5.38809448e-02],\n",
       "              [-1.44492909e-01, -4.34826575e-02,  4.27882150e-02, ...,\n",
       "               -2.88513452e-01,  4.12026852e-01,  3.07844914e-02],\n",
       "              [-1.16880119e-01, -1.83617696e-03,  1.36511754e-02, ...,\n",
       "               -1.45613700e-01,  4.55641478e-01,  1.34494789e-02]],\n",
       "\n",
       "             ...,\n",
       "\n",
       "             [[-2.37423569e-01, -2.43313536e-01,  1.69986933e-01, ...,\n",
       "               -2.49657065e-01,  2.29672343e-03,  3.86952072e-01],\n",
       "              [ 1.82879493e-01,  6.56328648e-02, -3.66677269e-02, ...,\n",
       "                3.73578630e-04, -2.47781754e-01, -1.90477669e-01],\n",
       "              [ 8.43305737e-02,  3.18206623e-02, -1.04350280e-02, ...,\n",
       "                1.10283889e-01, -3.51878226e-01, -2.42552921e-01],\n",
       "              ...,\n",
       "              [-1.48447335e-01,  2.26723850e-02,  4.27911431e-02, ...,\n",
       "                2.42255330e-02,  1.84647262e-01, -3.50291789e-01],\n",
       "              [-1.34454519e-01,  3.17429602e-02,  4.35033925e-02, ...,\n",
       "                1.66710839e-02,  1.95843577e-01, -3.42757761e-01],\n",
       "              [-5.71167618e-02,  1.92380875e-01,  1.16254210e-01, ...,\n",
       "               -1.20958500e-01,  1.35434553e-01, -1.11253724e-01]],\n",
       "\n",
       "             [[-1.12794459e-01, -3.35657179e-01, -2.16026634e-01, ...,\n",
       "               -2.86530554e-01,  4.05543298e-02,  3.04998308e-01],\n",
       "              [-1.74556449e-01, -3.10429335e-01, -5.96570075e-01, ...,\n",
       "                5.45560718e-02,  3.53429824e-01, -1.71185374e-01],\n",
       "              [-3.64051461e-02, -7.48400614e-02, -4.09675121e-01, ...,\n",
       "                1.27862126e-01,  2.29568928e-01, -1.97960466e-01],\n",
       "              ...,\n",
       "              [ 2.35842168e-03, -9.91591886e-02, -2.39197731e-01, ...,\n",
       "               -2.48361558e-01,  3.53775233e-01, -3.20966780e-01],\n",
       "              [ 3.51305306e-03, -8.39653760e-02, -2.08316728e-01, ...,\n",
       "               -2.25274712e-01,  3.29159319e-01, -3.00580710e-01],\n",
       "              [-2.47987509e-02, -6.48082644e-02, -2.30051160e-01, ...,\n",
       "               -2.43354246e-01,  3.20910901e-01, -3.19676548e-01]],\n",
       "\n",
       "             [[ 9.43843834e-03, -2.14767784e-01, -2.07226112e-01, ...,\n",
       "               -1.15910009e-01,  8.92388895e-02, -1.60950050e-02],\n",
       "              [ 7.23892823e-02, -7.39851296e-02,  6.78404197e-02, ...,\n",
       "               -6.86322749e-02,  1.08799651e-01, -1.22359119e-01],\n",
       "              [ 3.07437956e-01,  4.57990944e-01, -4.02811393e-02, ...,\n",
       "                7.11665601e-02,  2.96551436e-01, -3.92891467e-01],\n",
       "              ...,\n",
       "              [-1.28824785e-02,  1.55294031e-01,  1.37562588e-01, ...,\n",
       "               -7.74083138e-02,  4.01062667e-01, -3.37246656e-01],\n",
       "              [ 1.95474699e-02,  1.30389586e-01,  1.33454084e-01, ...,\n",
       "               -8.71944726e-02,  4.47968930e-01, -3.47424716e-01],\n",
       "              [ 3.73153538e-02,  1.33554265e-01,  9.94736180e-02, ...,\n",
       "               -9.04907882e-02,  4.27208483e-01, -3.67326915e-01]]],            dtype=float32)"
      ]
     },
     "execution_count": 60,
     "metadata": {},
     "output_type": "execute_result"
    }
   ],
   "source": [
    "clip_embedding"
   ]
  },
  {
   "cell_type": "code",
   "execution_count": null,
   "id": "raised-forest",
   "metadata": {},
   "outputs": [],
   "source": [
    "Last non zero token - output\n",
    "NOT resudial vs resudial"
   ]
  },
  {
   "cell_type": "code",
   "execution_count": 435,
   "id": "municipal-rates",
   "metadata": {},
   "outputs": [],
   "source": [
    "rotary_dims = 32 # a half of head output dim, not something like RoPE in GPT-J"
   ]
  },
  {
   "cell_type": "code",
   "execution_count": 607,
   "id": "incorporate-elder",
   "metadata": {},
   "outputs": [],
   "source": [
    "MAX_SEQ_LEN = 8192\n",
    "\n",
    "@lru_cache()\n",
    "def fixed_pos_embedding(rotary_dims):\n",
    "    inv_freq = 1. / (10000 ** (np.arange(0, rotary_dims, 2) / rotary_dims))\n",
    "    sinusoid_inp = np.einsum('i , j -> i j', np.arange(MAX_SEQ_LEN), inv_freq)\n",
    "    return np.sin(sinusoid_inp), np.cos(sinusoid_inp)\n",
    "\n",
    "def rotate_every_two(x):\n",
    "    x1 = x[..., ::2]\n",
    "    x2 = x[..., 1::2]\n",
    "    x = jnp.stack((-x2, x1), axis=-1)\n",
    "    return rearrange(x, '... d j -> ... (d j)')\n",
    "\n",
    "#@partial(jax.jit, static_argnums=(2,))\n",
    "def apply_rotary_pos_emb(x, sincos, seq_dim):\n",
    "    sincos = map(lambda t: repeat(t, '... b n -> ... b (n j)', j=2)[-x.shape[seq_dim]:], sincos)\n",
    "    \n",
    "    # (n_seq, dim_per_head) -> (n_seq, 1, 1, dim_per_head), so we can do mult\n",
    "    # in case \"x\" is something like (n_seq, bs, n_heads, dim_per_head)\n",
    "    add_dims = set(np.arange(x.ndim-1)) - set([np.arange(x.ndim)[seq_dim]])\n",
    "    sin, cos = map(lambda t: jnp.expand_dims(t, tuple(add_dims)), sincos)\n",
    "    \n",
    "    return (x * cos) + (rotate_every_two(x) * sin)"
   ]
  },
  {
   "cell_type": "code",
   "execution_count": 615,
   "id": "saved-marking",
   "metadata": {},
   "outputs": [],
   "source": [
    "@partial(jax.jit, static_argnums=(1,2))\n",
    "def apply_rope(x, rotary_dims, seq_dim=1):\n",
    "    x_rot = x[..., :rotary_dims]\n",
    "    x_pass = x[..., rotary_dims:]\n",
    "    sincos = fixed_pos_embedding(rotary_dims)\n",
    "    x_rot = apply_rotary_pos_emb(x_rot, sincos, seq_dim)\n",
    "    return jnp.concatenate([x_rot, x_pass], axis=-1)"
   ]
  },
  {
   "cell_type": "code",
   "execution_count": 616,
   "id": "considered-staff",
   "metadata": {},
   "outputs": [],
   "source": [
    "def rope_tests():\n",
    "    rotary_dims = 32\n",
    "    vectors = np.random.random(size=(2,75))\n",
    "    def test_pos(pos1, pos2, f):\n",
    "        q = np.zeros(shape=(1,64,75))\n",
    "        v = np.zeros(shape=(1,64,75))\n",
    "        q[0,pos1] = vectors[0]\n",
    "        v[0,pos2] = vectors[1]\n",
    "        res = f(q,rotary_dims)@f(v,rotary_dims).transpose(0, 2, 1)\n",
    "        return res[0,pos1,pos2]\n",
    "    \n",
    "    pos0 = test_pos(3,17, lambda x,y: x)\n",
    "    pos1 = test_pos(3,17, apply_rope)\n",
    "    pos2 = test_pos(5,19, apply_rope)\n",
    "    pos3 = test_pos(5,20, apply_rope)\n",
    "    assert not jnp.isclose(pos0, pos1)\n",
    "    assert jnp.isclose(pos1, pos2)\n",
    "    assert not jnp.isclose(pos2, pos3)\n",
    "\n",
    "rope_tests()"
   ]
  },
  {
   "cell_type": "code",
   "execution_count": 617,
   "id": "trying-delight",
   "metadata": {},
   "outputs": [],
   "source": [
    "def rope_tests2():\n",
    "    rotary_dims = 32\n",
    "    vectors = np.random.random(size=(2,75))\n",
    "    def test_pos(pos1, pos2, f):\n",
    "        q = np.zeros(shape=(64,75))\n",
    "        v = np.zeros(shape=(64,75))\n",
    "        q[pos1] = vectors[0]\n",
    "        v[pos2] = vectors[1]\n",
    "        q = q[:,None,None,:]\n",
    "        v = v[:,None,None,:]\n",
    "        q = f(q,rotary_dims,0).transpose(1,2,0,3)\n",
    "        v = f(v,rotary_dims,0).transpose(1,2,0,3)\n",
    "        q = jnp.squeeze(q)\n",
    "        q = jnp.squeeze(q)\n",
    "        v = jnp.squeeze(v)\n",
    "        v = jnp.squeeze(v)\n",
    "        res = q@v.transpose()\n",
    "        return res[pos1,pos2]\n",
    "    \n",
    "    pos0 = test_pos(3,17, lambda x,y,z: x)\n",
    "    pos1 = test_pos(3,17, apply_rope)\n",
    "    pos2 = test_pos(5,19, apply_rope)\n",
    "    pos3 = test_pos(5,20, apply_rope)\n",
    "    assert not jnp.isclose(pos0, pos1)\n",
    "    assert jnp.isclose(pos1, pos2)\n",
    "    assert not jnp.isclose(pos2, pos3)\n",
    "\n",
    "rope_tests2()"
   ]
  },
  {
   "cell_type": "code",
   "execution_count": null,
   "id": "conservative-plaza",
   "metadata": {},
   "outputs": [],
   "source": []
  },
  {
   "cell_type": "code",
   "execution_count": 418,
   "id": "initial-formation",
   "metadata": {},
   "outputs": [
    {
     "data": {
      "text/plain": [
       "DeviceArray([1, 2], dtype=int32)"
      ]
     },
     "execution_count": 418,
     "metadata": {},
     "output_type": "execute_result"
    }
   ],
   "source": [
    "jnp.expand_dims(jnp.array([1,2]), ())"
   ]
  },
  {
   "cell_type": "code",
   "execution_count": 404,
   "id": "opening-letter",
   "metadata": {},
   "outputs": [],
   "source": []
  },
  {
   "cell_type": "code",
   "execution_count": 405,
   "id": "anonymous-official",
   "metadata": {},
   "outputs": [],
   "source": []
  },
  {
   "cell_type": "code",
   "execution_count": 406,
   "id": "herbal-fancy",
   "metadata": {},
   "outputs": [],
   "source": []
  },
  {
   "cell_type": "code",
   "execution_count": 407,
   "id": "signed-batch",
   "metadata": {},
   "outputs": [],
   "source": []
  },
  {
   "cell_type": "code",
   "execution_count": 408,
   "id": "developmental-edgar",
   "metadata": {},
   "outputs": [],
   "source": []
  },
  {
   "cell_type": "code",
   "execution_count": 409,
   "id": "internal-substitute",
   "metadata": {},
   "outputs": [],
   "source": []
  },
  {
   "cell_type": "code",
   "execution_count": null,
   "id": "multiple-samba",
   "metadata": {},
   "outputs": [],
   "source": []
  },
  {
   "cell_type": "code",
   "execution_count": null,
   "id": "distributed-habitat",
   "metadata": {},
   "outputs": [],
   "source": []
  },
  {
   "cell_type": "code",
   "execution_count": 542,
   "id": "dramatic-walnut",
   "metadata": {},
   "outputs": [],
   "source": [
    "pos1 = 3"
   ]
  },
  {
   "cell_type": "code",
   "execution_count": 543,
   "id": "billion-kentucky",
   "metadata": {},
   "outputs": [],
   "source": [
    "pos2 = pos1+17\n",
    "q = np.zeros(shape=(1,64,75))\n",
    "v = np.zeros(shape=(1,64,75))\n",
    "q[0,pos1] = vectors[0]\n",
    "v[0,pos2] = vectors[1]"
   ]
  },
  {
   "cell_type": "code",
   "execution_count": 544,
   "id": "everyday-diesel",
   "metadata": {},
   "outputs": [
    {
     "data": {
      "text/plain": [
       "17.220902311676884"
      ]
     },
     "execution_count": 544,
     "metadata": {},
     "output_type": "execute_result"
    }
   ],
   "source": [
    "res0 = q@v.transpose(0, 2, 1)\n",
    "res0[0,pos1,pos2]"
   ]
  },
  {
   "cell_type": "code",
   "execution_count": 545,
   "id": "exciting-bumper",
   "metadata": {},
   "outputs": [
    {
     "data": {
      "text/plain": [
       "DeviceArray(9.897591, dtype=float32)"
      ]
     },
     "execution_count": 545,
     "metadata": {},
     "output_type": "execute_result"
    }
   ],
   "source": [
    "res1 = apply_rope(q,rotary_dims)@apply_rope(v,rotary_dims).transpose(0, 2, 1)\n",
    "res1[0,pos1,pos2]"
   ]
  },
  {
   "cell_type": "code",
   "execution_count": 546,
   "id": "beginning-witness",
   "metadata": {},
   "outputs": [],
   "source": [
    "pos1 = 5"
   ]
  },
  {
   "cell_type": "code",
   "execution_count": 547,
   "id": "colored-kuwait",
   "metadata": {},
   "outputs": [],
   "source": [
    "pos2 = pos1+17\n",
    "q = np.zeros(shape=(1,64,75))\n",
    "v = np.zeros(shape=(1,64,75))\n",
    "q[0,pos1] = vectors[0]\n",
    "v[0,pos2] = vectors[1]"
   ]
  },
  {
   "cell_type": "code",
   "execution_count": 548,
   "id": "international-lodge",
   "metadata": {},
   "outputs": [
    {
     "data": {
      "text/plain": [
       "DeviceArray(9.897591, dtype=float32)"
      ]
     },
     "execution_count": 548,
     "metadata": {},
     "output_type": "execute_result"
    }
   ],
   "source": [
    "res2 = apply_rope(q,rotary_dims)@apply_rope(v,rotary_dims).transpose(0, 2, 1)\n",
    "res2=res2[0,pos1,pos2]\n",
    "res2"
   ]
  },
  {
   "cell_type": "code",
   "execution_count": 549,
   "id": "czech-victorian",
   "metadata": {},
   "outputs": [],
   "source": [
    "pos2 = pos1+16\n",
    "q = np.zeros(shape=(1,64,75))\n",
    "v = np.zeros(shape=(1,64,75))\n",
    "q[0,pos1] = vectors[0]\n",
    "v[0,pos2] = vectors[1]"
   ]
  },
  {
   "cell_type": "code",
   "execution_count": 550,
   "id": "colonial-warehouse",
   "metadata": {},
   "outputs": [
    {
     "data": {
      "text/plain": [
       "DeviceArray(9.807338, dtype=float32)"
      ]
     },
     "execution_count": 550,
     "metadata": {},
     "output_type": "execute_result"
    }
   ],
   "source": [
    "res3 = apply_rope(q,rotary_dims)@apply_rope(v,rotary_dims).transpose(0, 2, 1)\n",
    "res3[0,pos1,pos2]"
   ]
  },
  {
   "cell_type": "code",
   "execution_count": 551,
   "id": "increased-birmingham",
   "metadata": {},
   "outputs": [
    {
     "data": {
      "text/plain": [
       "DeviceArray(-0.09025288, dtype=float32)"
      ]
     },
     "execution_count": 551,
     "metadata": {},
     "output_type": "execute_result"
    }
   ],
   "source": [
    "res3[0,pos1,pos2]-res2"
   ]
  },
  {
   "cell_type": "code",
   "execution_count": 538,
   "id": "intermediate-associate",
   "metadata": {},
   "outputs": [
    {
     "data": {
      "text/plain": [
       "DeviceArray(-0.09025383, dtype=float32)"
      ]
     },
     "execution_count": 538,
     "metadata": {},
     "output_type": "execute_result"
    }
   ],
   "source": [
    "res3[0,pos1,pos2]-res2"
   ]
  },
  {
   "cell_type": "code",
   "execution_count": null,
   "id": "ethical-objective",
   "metadata": {},
   "outputs": [],
   "source": []
  },
  {
   "cell_type": "code",
   "execution_count": null,
   "id": "banned-doubt",
   "metadata": {},
   "outputs": [],
   "source": []
  },
  {
   "cell_type": "code",
   "execution_count": 78,
   "id": "military-specialist",
   "metadata": {},
   "outputs": [
    {
     "ename": "SyntaxError",
     "evalue": "invalid syntax (4034806244.py, line 1)",
     "output_type": "error",
     "traceback": [
      "\u001b[0;36m  File \u001b[0;32m\"/tmp/ipykernel_219366/4034806244.py\"\u001b[0;36m, line \u001b[0;32m1\u001b[0m\n\u001b[0;31m    embed_dim: int,\u001b[0m\n\u001b[0m                  ^\u001b[0m\n\u001b[0;31mSyntaxError\u001b[0m\u001b[0;31m:\u001b[0m invalid syntax\n"
     ]
    }
   ],
   "source": [
    "embed_dim: int,\n",
    "# text\n",
    "context_length: int,\n",
    "vocab_size: int,\n",
    "transformer_width: int,\n",
    "transformer_heads: int,\n",
    "transformer_layers: int"
   ]
  },
  {
   "cell_type": "code",
   "execution_count": 652,
   "id": "dental-tennis",
   "metadata": {},
   "outputs": [],
   "source": [
    "context_length = 5\n",
    "seq_lenght = 5"
   ]
  },
  {
   "cell_type": "code",
   "execution_count": 653,
   "id": "based-sellers",
   "metadata": {},
   "outputs": [],
   "source": [
    "mask = jnp.zeros((seq_lenght, seq_lenght))\n",
    "mask -= 10e10\n",
    "# make zeroes in place of context windows\n",
    "mask = jnp.triu(mask, context_length).transpose() + jnp.triu(mask, 1)  \n"
   ]
  },
  {
   "cell_type": "code",
   "execution_count": 654,
   "id": "boring-demonstration",
   "metadata": {},
   "outputs": [
    {
     "data": {
      "text/plain": [
       "DeviceArray([[ 0.e+00, -1.e+11, -1.e+11, -1.e+11, -1.e+11],\n",
       "             [ 0.e+00,  0.e+00, -1.e+11, -1.e+11, -1.e+11],\n",
       "             [ 0.e+00,  0.e+00,  0.e+00, -1.e+11, -1.e+11],\n",
       "             [ 0.e+00,  0.e+00,  0.e+00,  0.e+00, -1.e+11],\n",
       "             [ 0.e+00,  0.e+00,  0.e+00,  0.e+00,  0.e+00]],            dtype=float32)"
      ]
     },
     "execution_count": 654,
     "metadata": {},
     "output_type": "execute_result"
    }
   ],
   "source": [
    "mask"
   ]
  },
  {
   "cell_type": "code",
   "execution_count": 637,
   "id": "animated-gentleman",
   "metadata": {},
   "outputs": [
    {
     "data": {
      "text/plain": [
       "DeviceArray([[ 0.e+00, -1.e+11, -1.e+11, -1.e+11, -1.e+11],\n",
       "             [ 0.e+00,  0.e+00, -1.e+11, -1.e+11, -1.e+11],\n",
       "             [ 0.e+00,  0.e+00,  0.e+00, -1.e+11, -1.e+11],\n",
       "             [-1.e+11,  0.e+00,  0.e+00,  0.e+00, -1.e+11],\n",
       "             [-1.e+11, -1.e+11,  0.e+00,  0.e+00,  0.e+00]],            dtype=float32)"
      ]
     },
     "execution_count": 637,
     "metadata": {},
     "output_type": "execute_result"
    }
   ],
   "source": []
  },
  {
   "cell_type": "code",
   "execution_count": null,
   "id": "affected-singles",
   "metadata": {},
   "outputs": [],
   "source": [
    "    def build_attention_mask(self):\n",
    "        # lazily create causal attention mask, with full attention between the vision tokens\n",
    "        # pytorch uses additive attention mask; fill with -inf\n",
    "        mask = jnp.zeros((seq_lenght, seq_lenght))\n",
    "        mask -= 10e10\n",
    "        mask = jnp.triu(mask, 1)  # zero out the lower diagonal\n",
    "        return mask\n"
   ]
  },
  {
   "cell_type": "code",
   "execution_count": null,
   "id": "mobile-burden",
   "metadata": {},
   "outputs": [],
   "source": []
  },
  {
   "cell_type": "code",
   "execution_count": 645,
   "id": "national-boundary",
   "metadata": {},
   "outputs": [],
   "source": [
    "import torch\n",
    "import torch.nn as nn"
   ]
  },
  {
   "cell_type": "code",
   "execution_count": 646,
   "id": "foster-combat",
   "metadata": {},
   "outputs": [],
   "source": [
    "input1 = torch.randn(100, 128)\n",
    "input2 = torch.randn(100, 128)\n",
    "cos = nn.CosineSimilarity(dim=1, eps=1e-6)\n",
    "output = cos(input1, input2)"
   ]
  },
  {
   "cell_type": "code",
   "execution_count": 648,
   "id": "continental-position",
   "metadata": {},
   "outputs": [
    {
     "data": {
      "text/plain": [
       "torch.Size([100])"
      ]
     },
     "execution_count": 648,
     "metadata": {},
     "output_type": "execute_result"
    }
   ],
   "source": [
    "output.shape"
   ]
  },
  {
   "cell_type": "code",
   "execution_count": 649,
   "id": "essential-democracy",
   "metadata": {},
   "outputs": [
    {
     "data": {
      "text/plain": [
       "tensor([ 0.0155,  0.0529,  0.1901, -0.0201,  0.0419,  0.0010,  0.0252, -0.0221,\n",
       "         0.1344,  0.2112,  0.0273,  0.0225,  0.1488, -0.1109,  0.0742, -0.0657,\n",
       "         0.0241,  0.1762, -0.0318, -0.0286,  0.1075, -0.0912, -0.0371,  0.1421,\n",
       "        -0.0579,  0.0132,  0.0162, -0.0640, -0.0344, -0.1271,  0.0717,  0.0575,\n",
       "        -0.0399,  0.1130,  0.0802,  0.0140,  0.0429, -0.1490, -0.0763, -0.0017,\n",
       "         0.0865,  0.0190,  0.0124, -0.0139, -0.0402, -0.0498,  0.1039,  0.0720,\n",
       "        -0.0385, -0.1752,  0.0201,  0.1232, -0.0860,  0.0839, -0.1284,  0.0702,\n",
       "         0.0830, -0.1514,  0.0038,  0.0643, -0.0735,  0.1572,  0.2567,  0.1676,\n",
       "         0.0304,  0.0659,  0.1055,  0.0475, -0.1839, -0.0283, -0.0106,  0.0377,\n",
       "         0.1506, -0.0467, -0.2100, -0.1163,  0.1028, -0.0598, -0.0339, -0.0810,\n",
       "         0.0007, -0.0107, -0.1102,  0.1285, -0.0298, -0.0173, -0.0733,  0.0044,\n",
       "        -0.0856, -0.0936,  0.1001,  0.0335, -0.0664,  0.0400,  0.2534, -0.2347,\n",
       "         0.0064, -0.0910, -0.0844, -0.0064])"
      ]
     },
     "execution_count": 649,
     "metadata": {},
     "output_type": "execute_result"
    }
   ],
   "source": [
    "output"
   ]
  },
  {
   "cell_type": "code",
   "execution_count": null,
   "id": "heavy-disease",
   "metadata": {},
   "outputs": [],
   "source": []
  }
 ],
 "metadata": {
  "kernelspec": {
   "display_name": "Python [conda env:gpt-c]",
   "language": "python",
   "name": "conda-env-gpt-c-py"
  },
  "language_info": {
   "codemirror_mode": {
    "name": "ipython",
    "version": 3
   },
   "file_extension": ".py",
   "mimetype": "text/x-python",
   "name": "python",
   "nbconvert_exporter": "python",
   "pygments_lexer": "ipython3",
   "version": "3.9.6"
  },
  "toc": {
   "base_numbering": 1,
   "nav_menu": {},
   "number_sections": true,
   "sideBar": true,
   "skip_h1_title": false,
   "title_cell": "Table of Contents",
   "title_sidebar": "Contents",
   "toc_cell": false,
   "toc_position": {},
   "toc_section_display": true,
   "toc_window_display": false
  }
 },
 "nbformat": 4,
 "nbformat_minor": 5
}
